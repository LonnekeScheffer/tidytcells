{
 "cells": [
  {
   "attachments": {},
   "cell_type": "markdown",
   "metadata": {},
   "source": [
    "# Catalogue MHC genes (Mus musculus)"
   ]
  },
  {
   "attachments": {},
   "cell_type": "markdown",
   "metadata": {},
   "source": [
    "## Setup"
   ]
  },
  {
   "cell_type": "code",
   "execution_count": 16,
   "metadata": {},
   "outputs": [],
   "source": [
    "import sys\n",
    "import os\n",
    "from pathlib import Path\n",
    "\n",
    "if not \"PROJECT_PATH\" in globals():\n",
    "    PROJECT_PATH = Path.cwd().parent.resolve()\n",
    "\n",
    "sys.path.append(PROJECT_PATH)\n",
    "os.chdir(PROJECT_PATH)"
   ]
  },
  {
   "cell_type": "code",
   "execution_count": 17,
   "metadata": {},
   "outputs": [],
   "source": [
    "import json\n",
    "import pandas as pd\n",
    "import re"
   ]
  },
  {
   "cell_type": "code",
   "execution_count": 18,
   "metadata": {},
   "outputs": [],
   "source": [
    "df = pd.read_excel(Path(\"data\") / \"musmusculus_mhc.ods\").drop(\n",
    "    columns=[\"Unnamed: 2\", \"Unnamed: 4\"]\n",
    ")\n",
    "df.columns = [\"group\", \"subgroup\", \"gene name\", \"synonym\"]\n",
    "df[\"group\"] = df[\"group\"].fillna(method=\"ffill\")\n",
    "df[\"subgroup\"] = df[\"subgroup\"].fillna(method=\"ffill\")\n",
    "\n",
    "df[\"synonym\"] = df[\"synonym\"].map(lambda s: re.sub(r\"[\\[\\(].*[\\]\\)]\", \"\", s))\n",
    "df[\"synonym\"] = df[\"synonym\"].map(\n",
    "    lambda s: [\"\".join(syn.split()).upper().replace(\"-\", \"\") for syn in s.split(\",\")]\n",
    ")\n",
    "df = df.explode(\"synonym\", ignore_index=True)\n",
    "\n",
    "df = df.applymap(lambda x: x.strip())\n",
    "df = df.drop_duplicates()"
   ]
  },
  {
   "cell_type": "code",
   "execution_count": 19,
   "metadata": {},
   "outputs": [
    {
     "data": {
      "text/html": [
       "<div>\n",
       "<style scoped>\n",
       "    .dataframe tbody tr th:only-of-type {\n",
       "        vertical-align: middle;\n",
       "    }\n",
       "\n",
       "    .dataframe tbody tr th {\n",
       "        vertical-align: top;\n",
       "    }\n",
       "\n",
       "    .dataframe thead th {\n",
       "        text-align: right;\n",
       "    }\n",
       "</style>\n",
       "<table border=\"1\" class=\"dataframe\">\n",
       "  <thead>\n",
       "    <tr style=\"text-align: right;\">\n",
       "      <th></th>\n",
       "      <th>group</th>\n",
       "      <th>subgroup</th>\n",
       "      <th>gene name</th>\n",
       "      <th>synonym</th>\n",
       "    </tr>\n",
       "  </thead>\n",
       "  <tbody>\n",
       "    <tr>\n",
       "      <th>0</th>\n",
       "      <td>MH2</td>\n",
       "      <td>MH2-A</td>\n",
       "      <td>MH2-AA</td>\n",
       "      <td>H2AA</td>\n",
       "    </tr>\n",
       "    <tr>\n",
       "      <th>3</th>\n",
       "      <td>MH2</td>\n",
       "      <td>MH2-A</td>\n",
       "      <td>MH2-AA</td>\n",
       "      <td>H2IAALPHA</td>\n",
       "    </tr>\n",
       "    <tr>\n",
       "      <th>4</th>\n",
       "      <td>MH2</td>\n",
       "      <td>MH2-A</td>\n",
       "      <td>MH2-AA</td>\n",
       "      <td>IADA</td>\n",
       "    </tr>\n",
       "    <tr>\n",
       "      <th>5</th>\n",
       "      <td>MH2</td>\n",
       "      <td>MH2-A</td>\n",
       "      <td>MH2-AA</td>\n",
       "      <td>IAKA</td>\n",
       "    </tr>\n",
       "    <tr>\n",
       "      <th>6</th>\n",
       "      <td>MH2</td>\n",
       "      <td>MH2-A</td>\n",
       "      <td>MH2-AA</td>\n",
       "      <td>IAA</td>\n",
       "    </tr>\n",
       "  </tbody>\n",
       "</table>\n",
       "</div>"
      ],
      "text/plain": [
       "  group subgroup gene name    synonym\n",
       "0   MH2    MH2-A    MH2-AA       H2AA\n",
       "3   MH2    MH2-A    MH2-AA  H2IAALPHA\n",
       "4   MH2    MH2-A    MH2-AA       IADA\n",
       "5   MH2    MH2-A    MH2-AA       IAKA\n",
       "6   MH2    MH2-A    MH2-AA        IAA"
      ]
     },
     "execution_count": 19,
     "metadata": {},
     "output_type": "execute_result"
    }
   ],
   "source": [
    "df.head()"
   ]
  },
  {
   "attachments": {},
   "cell_type": "markdown",
   "metadata": {},
   "source": [
    "## List all MHC genes"
   ]
  },
  {
   "cell_type": "code",
   "execution_count": 20,
   "metadata": {},
   "outputs": [],
   "source": [
    "# Get all genes\n",
    "genes = df[\"gene name\"].unique().tolist()"
   ]
  },
  {
   "cell_type": "code",
   "execution_count": 21,
   "metadata": {},
   "outputs": [],
   "source": [
    "with open(Path(\"src\") / \"tidytcells\" / \"_resources\" / \"musmusculus_mhc.json\", \"w\") as f:\n",
    "    json.dump(genes, f, indent=4)"
   ]
  },
  {
   "attachments": {},
   "cell_type": "markdown",
   "metadata": {},
   "source": [
    "## Get deprecated names/synonyms"
   ]
  },
  {
   "cell_type": "code",
   "execution_count": 22,
   "metadata": {},
   "outputs": [],
   "source": [
    "mhc_synonyms = df[[\"gene name\", \"synonym\"]]\n",
    "\n",
    "# Group together by synonym\n",
    "mhc_synonyms = mhc_synonyms.groupby(\"synonym\").aggregate(lambda x: x.tolist())"
   ]
  },
  {
   "cell_type": "code",
   "execution_count": 23,
   "metadata": {},
   "outputs": [],
   "source": [
    "# Discard ambiguous synonyms\n",
    "mhc_synonyms = mhc_synonyms[mhc_synonyms[\"gene name\"].map(len) == 1].copy()\n",
    "mhc_synonyms[\"gene name\"] = mhc_synonyms[\"gene name\"].map(lambda x: x.pop())"
   ]
  },
  {
   "cell_type": "code",
   "execution_count": 24,
   "metadata": {},
   "outputs": [],
   "source": [
    "# Discard redundant items (synonym == approved symbol)\n",
    "mhc_synonyms = mhc_synonyms[mhc_synonyms.index != mhc_synonyms[\"gene name\"]]"
   ]
  },
  {
   "cell_type": "code",
   "execution_count": 25,
   "metadata": {},
   "outputs": [],
   "source": [
    "# Discard synonyms that are also names of other valid genes\n",
    "mhc_synonyms = mhc_synonyms[mhc_synonyms.index.map(lambda x: x not in genes)]"
   ]
  },
  {
   "cell_type": "code",
   "execution_count": 26,
   "metadata": {},
   "outputs": [],
   "source": [
    "mhc_synonyms[\"gene name\"].to_json(\n",
    "    Path(\"src\") / \"tidytcells\" / \"_resources\" / \"musmusculus_mhc_synonyms.json\",\n",
    "    indent=4,\n",
    ")"
   ]
  },
  {
   "cell_type": "code",
   "execution_count": null,
   "metadata": {},
   "outputs": [],
   "source": []
  }
 ],
 "metadata": {
  "kernelspec": {
   "display_name": ".venv",
   "language": "python",
   "name": "python3"
  },
  "language_info": {
   "codemirror_mode": {
    "name": "ipython",
    "version": 3
   },
   "file_extension": ".py",
   "mimetype": "text/x-python",
   "name": "python",
   "nbconvert_exporter": "python",
   "pygments_lexer": "ipython3",
   "version": "3.11.2"
  },
  "orig_nbformat": 4,
  "vscode": {
   "interpreter": {
    "hash": "e9113dead31263b73eafaec25dace067586105dc5705e88fed689dacfad72cc7"
   }
  }
 },
 "nbformat": 4,
 "nbformat_minor": 2
}
