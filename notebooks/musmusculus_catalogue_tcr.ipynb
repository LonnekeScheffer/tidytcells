{
 "cells": [
  {
   "attachments": {},
   "cell_type": "markdown",
   "metadata": {},
   "source": [
    "# Catalogue TCR genes (Mus musculus)"
   ]
  },
  {
   "cell_type": "code",
   "execution_count": 1,
   "metadata": {},
   "outputs": [],
   "source": [
    "import sys\n",
    "import os\n",
    "from pathlib import Path\n",
    "\n",
    "if not \"PROJECT_PATH\" in globals():\n",
    "    PROJECT_PATH = Path.cwd().parent.resolve()\n",
    "\n",
    "sys.path.append(PROJECT_PATH)\n",
    "os.chdir(PROJECT_PATH)"
   ]
  },
  {
   "cell_type": "code",
   "execution_count": 2,
   "metadata": {},
   "outputs": [],
   "source": [
    "import json\n",
    "import pandas as pd"
   ]
  },
  {
   "attachments": {},
   "cell_type": "markdown",
   "metadata": {},
   "source": [
    "## List all TCR genes and alleles"
   ]
  },
  {
   "cell_type": "code",
   "execution_count": 3,
   "metadata": {},
   "outputs": [],
   "source": [
    "alleles = dict()\n",
    "\n",
    "with open(Path(\"data\") / \"musmusculus_tcr.fasta\", \"r\") as f:\n",
    "    for line in f.readlines():\n",
    "        if line.startswith(\">\"):\n",
    "            fields = line.split(\"|\")\n",
    "            allele_name = fields[1]\n",
    "            gene = allele_name.split(\"*\")[0]\n",
    "            allele_designation = allele_name.split(\"*\")[1]\n",
    "            functionality = fields[3].strip(\"()[]\")\n",
    "\n",
    "            if not gene in alleles:\n",
    "                alleles[gene] = dict()\n",
    "\n",
    "            alleles[gene][allele_designation] = functionality"
   ]
  },
  {
   "cell_type": "code",
   "execution_count": 4,
   "metadata": {},
   "outputs": [],
   "source": [
    "with open(Path(\"src\") / \"tidytcells\" / \"resources\" / \"musmusculus_tcr.json\", \"w\") as f:\n",
    "    json.dump(alleles, f, indent=4)"
   ]
  }
 ],
 "metadata": {
  "kernelspec": {
   "display_name": ".venv",
   "language": "python",
   "name": "python3"
  },
  "language_info": {
   "codemirror_mode": {
    "name": "ipython",
    "version": 3
   },
   "file_extension": ".py",
   "mimetype": "text/x-python",
   "name": "python",
   "nbconvert_exporter": "python",
   "pygments_lexer": "ipython3",
   "version": "3.11.1"
  },
  "orig_nbformat": 4,
  "vscode": {
   "interpreter": {
    "hash": "e9113dead31263b73eafaec25dace067586105dc5705e88fed689dacfad72cc7"
   }
  }
 },
 "nbformat": 4,
 "nbformat_minor": 2
}
