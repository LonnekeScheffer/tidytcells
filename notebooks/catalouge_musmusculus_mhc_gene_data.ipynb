{
 "cells": [
  {
   "cell_type": "code",
   "execution_count": 1,
   "metadata": {},
   "outputs": [],
   "source": [
    "import sys\n",
    "import os\n",
    "from pathlib import Path\n",
    "\n",
    "if not 'PROJECT_PATH' in globals():\n",
    "    PROJECT_PATH = Path.cwd().parent.resolve()\n",
    "\n",
    "sys.path.append(PROJECT_PATH)\n",
    "os.chdir(PROJECT_PATH)"
   ]
  },
  {
   "cell_type": "code",
   "execution_count": 35,
   "metadata": {},
   "outputs": [],
   "source": [
    "import json\n",
    "import pandas as pd\n",
    "from pathlib import Path\n",
    "import re"
   ]
  },
  {
   "attachments": {},
   "cell_type": "markdown",
   "metadata": {},
   "source": [
    "## Load and clean Mus musculus MHC data from IMGT"
   ]
  },
  {
   "cell_type": "code",
   "execution_count": 10,
   "metadata": {},
   "outputs": [],
   "source": [
    "raw = pd.read_excel(Path('data')/'musmusculus_mhc_imgt.ods', engine='odf')"
   ]
  },
  {
   "cell_type": "code",
   "execution_count": 23,
   "metadata": {},
   "outputs": [],
   "source": [
    "cleaned = raw.ffill()\n",
    "cleaned.columns = ['class', 'subclass', 'gene', 'synonyms']\n",
    "cleaned = cleaned.applymap(\n",
    "    lambda e: re.sub(r'\\[.+\\]|\\(.+\\)', '', e)\n",
    ")\n",
    "cleaned['synonyms'] = cleaned['synonyms'].map(\n",
    "    lambda s: [syn.strip() for syn in s.split(',')]\n",
    ")"
   ]
  },
  {
   "cell_type": "code",
   "execution_count": 26,
   "metadata": {},
   "outputs": [
    {
     "data": {
      "text/html": [
       "<div>\n",
       "<style scoped>\n",
       "    .dataframe tbody tr th:only-of-type {\n",
       "        vertical-align: middle;\n",
       "    }\n",
       "\n",
       "    .dataframe tbody tr th {\n",
       "        vertical-align: top;\n",
       "    }\n",
       "\n",
       "    .dataframe thead th {\n",
       "        text-align: right;\n",
       "    }\n",
       "</style>\n",
       "<table border=\"1\" class=\"dataframe\">\n",
       "  <thead>\n",
       "    <tr style=\"text-align: right;\">\n",
       "      <th></th>\n",
       "      <th>class</th>\n",
       "      <th>subclass</th>\n",
       "      <th>gene</th>\n",
       "      <th>synonyms</th>\n",
       "    </tr>\n",
       "  </thead>\n",
       "  <tbody>\n",
       "    <tr>\n",
       "      <th>0</th>\n",
       "      <td>IIa</td>\n",
       "      <td>H2-A</td>\n",
       "      <td>MH2-AA</td>\n",
       "      <td>[H2-Aa, H-2Aa, H2-IA-alpha, I-A D-A, I-A K-A, ...</td>\n",
       "    </tr>\n",
       "    <tr>\n",
       "      <th>1</th>\n",
       "      <td>IIa</td>\n",
       "      <td>H2-A</td>\n",
       "      <td>H2-AB</td>\n",
       "      <td>[H2-Ab, H-2Ab, H2-Ab1, H2-IA-beta, H2 I-A beta...</td>\n",
       "    </tr>\n",
       "    <tr>\n",
       "      <th>2</th>\n",
       "      <td>Ia</td>\n",
       "      <td>H2-D</td>\n",
       "      <td>H2-D1</td>\n",
       "      <td>[H-2 D-B, H-2 D-D, H-2D, Db, Dd]</td>\n",
       "    </tr>\n",
       "    <tr>\n",
       "      <th>3</th>\n",
       "      <td>Ia</td>\n",
       "      <td>H2-D</td>\n",
       "      <td>H2-D2</td>\n",
       "      <td>[D2d]</td>\n",
       "    </tr>\n",
       "    <tr>\n",
       "      <th>4</th>\n",
       "      <td>Ia</td>\n",
       "      <td>H2-D</td>\n",
       "      <td>H2-D3</td>\n",
       "      <td>[D3d]</td>\n",
       "    </tr>\n",
       "  </tbody>\n",
       "</table>\n",
       "</div>"
      ],
      "text/plain": [
       "  class subclass    gene                                           synonyms\n",
       "0   IIa     H2-A  MH2-AA  [H2-Aa, H-2Aa, H2-IA-alpha, I-A D-A, I-A K-A, ...\n",
       "1   IIa     H2-A  H2-AB   [H2-Ab, H-2Ab, H2-Ab1, H2-IA-beta, H2 I-A beta...\n",
       "2    Ia     H2-D   H2-D1                   [H-2 D-B, H-2 D-D, H-2D, Db, Dd]\n",
       "3    Ia     H2-D   H2-D2                                              [D2d]\n",
       "4    Ia     H2-D   H2-D3                                              [D3d]"
      ]
     },
     "execution_count": 26,
     "metadata": {},
     "output_type": "execute_result"
    }
   ],
   "source": [
    "cleaned.head()"
   ]
  },
  {
   "attachments": {},
   "cell_type": "markdown",
   "metadata": {},
   "source": [
    "## Export list of all MHCs"
   ]
  },
  {
   "cell_type": "code",
   "execution_count": 27,
   "metadata": {},
   "outputs": [],
   "source": [
    "mhc_alleles_musmusculus = cleaned['gene'].tolist()"
   ]
  },
  {
   "cell_type": "code",
   "execution_count": 36,
   "metadata": {},
   "outputs": [],
   "source": [
    "with open(Path('src')/'tidytcells'/'resources'/'mhc_alleles_musmusculus.json', 'w') as f:\n",
    "    json.dump(mhc_alleles_musmusculus, f, indent=4)"
   ]
  },
  {
   "attachments": {},
   "cell_type": "markdown",
   "metadata": {},
   "source": [
    "## Export dict mapping synonyms"
   ]
  },
  {
   "cell_type": "code",
   "execution_count": 52,
   "metadata": {},
   "outputs": [],
   "source": [
    "synonyms = cleaned[['gene', 'synonyms']]\n",
    "synonyms = synonyms.explode('synonyms')\n",
    "synonyms = synonyms.groupby('synonyms').aggregate(lambda x: x.tolist())\n",
    "synonyms = synonyms[synonyms['gene'].map(len) == 1].copy()\n",
    "synonyms = synonyms['gene'].map(lambda x: x.pop())"
   ]
  },
  {
   "cell_type": "code",
   "execution_count": 54,
   "metadata": {},
   "outputs": [],
   "source": [
    "synonyms.to_json(Path('src')/'tidytcells'/'resources'/'mhc_synonyms_musmusculus.json', indent=4)"
   ]
  },
  {
   "cell_type": "code",
   "execution_count": null,
   "metadata": {},
   "outputs": [],
   "source": []
  }
 ],
 "metadata": {
  "kernelspec": {
   "display_name": ".venv",
   "language": "python",
   "name": "python3"
  },
  "language_info": {
   "codemirror_mode": {
    "name": "ipython",
    "version": 3
   },
   "file_extension": ".py",
   "mimetype": "text/x-python",
   "name": "python",
   "nbconvert_exporter": "python",
   "pygments_lexer": "ipython3",
   "version": "3.11.1"
  },
  "orig_nbformat": 4,
  "vscode": {
   "interpreter": {
    "hash": "e9113dead31263b73eafaec25dace067586105dc5705e88fed689dacfad72cc7"
   }
  }
 },
 "nbformat": 4,
 "nbformat_minor": 2
}
