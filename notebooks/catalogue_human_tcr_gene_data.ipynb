{
 "cells": [
  {
   "cell_type": "markdown",
   "metadata": {},
   "source": [
    "# Catalogueing human TCR gene reference data"
   ]
  },
  {
   "cell_type": "code",
   "execution_count": 1,
   "metadata": {},
   "outputs": [],
   "source": [
    "import sys\n",
    "import os\n",
    "sys.path.append('/home/yutanagano/Projects/graph-gang-databases/')\n",
    "os.chdir('/home/yutanagano/Projects/graph-gang-databases/')"
   ]
  },
  {
   "cell_type": "code",
   "execution_count": 2,
   "metadata": {},
   "outputs": [],
   "source": [
    "import json\n",
    "import pandas as pd\n",
    "from pathlib import Path\n",
    "import re"
   ]
  },
  {
   "cell_type": "markdown",
   "metadata": {},
   "source": [
    "## Catalogueing alternate/deprecated names for TCR genes"
   ]
  },
  {
   "cell_type": "code",
   "execution_count": 3,
   "metadata": {},
   "outputs": [],
   "source": [
    "hgnc = pd.read_csv('/home/yutanagano/UCLOneDrive/graph-gang-databases/data/hgnc/hgnc.tsv', sep='\\t')"
   ]
  },
  {
   "cell_type": "code",
   "execution_count": 4,
   "metadata": {},
   "outputs": [],
   "source": [
    "tcr_genes = hgnc[hgnc['Locus type'].str.contains('T cell receptor gene')]\n",
    "tcr_genes = tcr_genes[\n",
    "    tcr_genes['Approved symbol'].str.contains('TRA') | tcr_genes['Approved symbol'].str.contains('TRB')\n",
    "]"
   ]
  },
  {
   "cell_type": "code",
   "execution_count": 5,
   "metadata": {},
   "outputs": [],
   "source": [
    "tcr_genes_with_aliases = tcr_genes[tcr_genes['Alias symbols'].notna()][['Approved symbol', 'Alias symbols']]\n",
    "tcr_genes_with_aliases['Alias symbols'] = tcr_genes_with_aliases['Alias symbols'].map(lambda x: x.split(', '))\n",
    "tcr_genes_with_aliases.columns = ['Approved symbol', 'Synonym']\n",
    "tcr_genes_with_aliases = tcr_genes_with_aliases.explode('Synonym')"
   ]
  },
  {
   "cell_type": "code",
   "execution_count": 6,
   "metadata": {},
   "outputs": [],
   "source": [
    "tcr_genes_with_depnames = tcr_genes[tcr_genes['Previous symbols'].notna()][['Approved symbol', 'Previous symbols']]\n",
    "tcr_genes_with_depnames['Previous symbols'] = tcr_genes_with_depnames['Previous symbols'].map(lambda x: x.split(', '))\n",
    "tcr_genes_with_depnames.columns = ['Approved symbol', 'Synonym']\n",
    "tcr_genes_with_depnames = tcr_genes_with_depnames.explode('Synonym')"
   ]
  },
  {
   "cell_type": "code",
   "execution_count": 7,
   "metadata": {},
   "outputs": [],
   "source": [
    "tcr_synonyms = pd.concat([tcr_genes_with_aliases, tcr_genes_with_depnames])\n",
    "tcr_synonyms = tcr_synonyms.groupby('Synonym').aggregate(lambda x: x.tolist())"
   ]
  },
  {
   "cell_type": "code",
   "execution_count": 8,
   "metadata": {},
   "outputs": [],
   "source": [
    "ambiguous_tcr_synonyms = tcr_synonyms[tcr_synonyms['Approved symbol'].map(len) > 1].copy()\n",
    "ambiguous_tcr_synonyms['Approved symbol'] = ambiguous_tcr_synonyms['Approved symbol'].map(lambda x: ', '.join(x))"
   ]
  },
  {
   "cell_type": "code",
   "execution_count": 9,
   "metadata": {},
   "outputs": [],
   "source": [
    "tcr_synonyms = tcr_synonyms[tcr_synonyms['Approved symbol'].map(len) == 1].copy()\n",
    "tcr_synonyms['Approved symbol'] = tcr_synonyms['Approved symbol'].map(lambda x: x.pop())"
   ]
  },
  {
   "cell_type": "markdown",
   "metadata": {},
   "source": [
    "### Save simple csv tables of ambiguous and nonambiguous synonyms for reference"
   ]
  },
  {
   "cell_type": "code",
   "execution_count": 10,
   "metadata": {},
   "outputs": [],
   "source": [
    "tcr_synonyms.to_csv('docs/human_tcr_synonyms.csv')\n",
    "ambiguous_tcr_synonyms.to_csv('docs/ambiguous_human_tcr_synonyms.csv')"
   ]
  },
  {
   "cell_type": "markdown",
   "metadata": {},
   "source": [
    "### Decompose the nonambiguous translations and save data as json for use in standardisation programme"
   ]
  },
  {
   "cell_type": "code",
   "execution_count": 11,
   "metadata": {},
   "outputs": [],
   "source": [
    "def decompose_translation(row: pd.Series) -> tuple:\n",
    "    m = re.match(r'^TR([AB][CDVJ])?(\\d+)(-(\\d+))?(DV(\\d+))?(OR9-2)?(P)?$', row.iloc[0])\n",
    "\n",
    "    if m is None:\n",
    "        print(row.iloc[0])\n",
    "\n",
    "    base = m.group(1)\n",
    "    num1 = m.group(2)\n",
    "    num2 = m.group(4)\n",
    "    d_designation = m.group(6)\n",
    "    or92 = True if m.group(7) else False\n",
    "    p = True if m.group(8) else False\n",
    "\n",
    "    return (base, num1, num2, d_designation, or92, p)"
   ]
  },
  {
   "cell_type": "code",
   "execution_count": 12,
   "metadata": {},
   "outputs": [],
   "source": [
    "tcr_synonyms_decomposed = tcr_synonyms.copy()\n",
    "tcr_synonyms_decomposed.columns = ['approved_symol']\n",
    "tcr_synonyms_decomposed[\n",
    "    ['base', 'num1', 'num2', 'd_designation', 'OR9-2', 'P']\n",
    "] = tcr_synonyms.apply(decompose_translation, axis=1, result_type='expand')"
   ]
  },
  {
   "cell_type": "code",
   "execution_count": 13,
   "metadata": {},
   "outputs": [],
   "source": [
    "tcr_synonyms_decomposed.to_json('src/resources/human_tcr_synonyms.json', orient='index', indent=4)"
   ]
  },
  {
   "cell_type": "markdown",
   "metadata": {},
   "source": [
    "## Catalogueing a table of all known TCR genes/alleles"
   ]
  },
  {
   "cell_type": "code",
   "execution_count": 14,
   "metadata": {},
   "outputs": [],
   "source": [
    "travs = pd.read_csv('/home/yutanagano/UCLOneDrive/graph-gang-databases/data/hnc_imgt/human_trav_imgt.csv')\n",
    "trajs = pd.read_csv('/home/yutanagano/UCLOneDrive/graph-gang-databases/data/hnc_imgt/human_traj_imgt.csv')\n",
    "trbvs = pd.read_csv('/home/yutanagano/UCLOneDrive/graph-gang-databases/data/hnc_imgt/human_trbv_imgt.csv')\n",
    "trbjs = pd.read_csv('/home/yutanagano/UCLOneDrive/graph-gang-databases/data/hnc_imgt/human_trbj_imgt.csv')"
   ]
  },
  {
   "cell_type": "code",
   "execution_count": 15,
   "metadata": {},
   "outputs": [],
   "source": [
    "def compile_tcr(base, num1, num2, p, or92, d_designation) -> str:\n",
    "    compiled = 'TR' + base + num1\n",
    "\n",
    "    if num2:\n",
    "        compiled = compiled + '-' + num2\n",
    "\n",
    "    if p:\n",
    "        compiled = compiled + 'P'\n",
    "\n",
    "    if d_designation:\n",
    "        compiled = compiled + 'DV' + d_designation\n",
    "    \n",
    "    if or92:\n",
    "        compiled = compiled + 'OR9-2'\n",
    "\n",
    "    return compiled\n",
    "\n",
    "def decompose_v(df: pd.DataFrame, chain: str) -> pd.DataFrame:\n",
    "    gene_base_to_d_designation = {}\n",
    "\n",
    "    def _decompose_row(row, chain: str) -> tuple:\n",
    "        m = re.match(r'^(\\d+)(-(\\d+))?(/DV(\\d+))?(/OR9-2)?$', row['gene_name'])\n",
    "\n",
    "        num1 = m.group(1)\n",
    "        num2 = m.group(3)\n",
    "        or92 = True if m.group(6) else False\n",
    "        d_designation = m.group(5)\n",
    "\n",
    "        gene_str = compile_tcr(\n",
    "            chain+'V',\n",
    "            num1,\n",
    "            num2,\n",
    "            False,\n",
    "            or92,\n",
    "            d_designation\n",
    "        )\n",
    "\n",
    "        if d_designation:\n",
    "            gene_base_to_d_designation[\n",
    "                f'TR{chain}V{num1}' if num2 is None\n",
    "                else f'TR{chain}V{num1}-{num2}'\n",
    "            ] = d_designation\n",
    "\n",
    "        allele_num = row['allele_name'].split('*')[-1]\n",
    "\n",
    "        return (gene_str, allele_num)\n",
    "    \n",
    "    result = pd.DataFrame()\n",
    "    result[['approved_symbol', 'alleles']] = df.apply(\n",
    "        lambda row: _decompose_row(row, chain),\n",
    "        axis=1,\n",
    "        result_type='expand'\n",
    "    )\n",
    "    \n",
    "    return result, gene_base_to_d_designation\n",
    "\n",
    "def decompose_j(df: pd.DataFrame) -> pd.DataFrame:\n",
    "    def _decompose_row(row) -> tuple:\n",
    "        m = re.match(r'^TR([AB]J)(\\d+)(-(\\d+)(P)?)?\\*(\\d+)$', row['allele_name'])\n",
    "\n",
    "        if m is None:\n",
    "            print(row['allele_name'])\n",
    "\n",
    "        base = m.group(1)\n",
    "        num1 = m.group(2)\n",
    "        num2 = m.group(4)\n",
    "        p = True if m.group(5) else False\n",
    "\n",
    "        gene_str = compile_tcr(\n",
    "            base,\n",
    "            num1,\n",
    "            num2,\n",
    "            p,\n",
    "            False,\n",
    "            None\n",
    "        )\n",
    "\n",
    "        allele_num = m.group(6)\n",
    "\n",
    "        return (gene_str, allele_num)\n",
    "    \n",
    "    result = pd.DataFrame()\n",
    "    result[['approved_symbol', 'alleles']] = df.apply(\n",
    "        lambda row: _decompose_row(row),\n",
    "        axis=1,\n",
    "        result_type='expand'\n",
    "    )\n",
    "    \n",
    "    return result"
   ]
  },
  {
   "cell_type": "code",
   "execution_count": 16,
   "metadata": {},
   "outputs": [],
   "source": [
    "travs_decomposed, trav_ds = decompose_v(travs, 'A')\n",
    "trbvs_decomposed, trbv_ds = decompose_v(trbvs, 'B')\n",
    "\n",
    "trajs_decomposed = decompose_j(trajs)\n",
    "trbjs_decomposed = decompose_j(trbjs)\n",
    "\n",
    "tcr_alleles_exhaustive = pd.concat(\n",
    "    [travs_decomposed, trbvs_decomposed, trajs_decomposed, trbjs_decomposed]\n",
    ").groupby('approved_symbol').aggregate(lambda x: x.tolist())"
   ]
  },
  {
   "cell_type": "code",
   "execution_count": 17,
   "metadata": {},
   "outputs": [],
   "source": [
    "tcr_alleles_exhaustive['alleles'].to_json(\n",
    "    'src/resources/human_tcr_alleles_exhaustive.json',\n",
    "    indent=4\n",
    ")"
   ]
  },
  {
   "cell_type": "code",
   "execution_count": 18,
   "metadata": {},
   "outputs": [],
   "source": [
    "with open('src/resources/human_tcr_d_designations.json', 'w') as f:\n",
    "    json.dump({**trav_ds, **trbv_ds},f,indent=4)"
   ]
  },
  {
   "cell_type": "code",
   "execution_count": null,
   "metadata": {},
   "outputs": [],
   "source": []
  }
 ],
 "metadata": {
  "kernelspec": {
   "display_name": "Python 3.10.4 ('tcr_graph_database')",
   "language": "python",
   "name": "python3"
  },
  "language_info": {
   "codemirror_mode": {
    "name": "ipython",
    "version": 3
   },
   "file_extension": ".py",
   "mimetype": "text/x-python",
   "name": "python",
   "nbconvert_exporter": "python",
   "pygments_lexer": "ipython3",
   "version": "3.10.4"
  },
  "orig_nbformat": 4,
  "vscode": {
   "interpreter": {
    "hash": "f3e521ebf913b7e27d1ce3d6409de88d94c707a8ef9baf0bbdd33640281668f3"
   }
  }
 },
 "nbformat": 4,
 "nbformat_minor": 2
}
