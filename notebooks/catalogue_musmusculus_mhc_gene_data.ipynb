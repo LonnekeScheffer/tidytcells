{
 "cells": [
  {
   "cell_type": "code",
   "execution_count": 1,
   "metadata": {},
   "outputs": [],
   "source": [
    "import sys\n",
    "import os\n",
    "from pathlib import Path\n",
    "\n",
    "if not 'PROJECT_PATH' in globals():\n",
    "    PROJECT_PATH = Path.cwd().parent.resolve()\n",
    "\n",
    "sys.path.append(PROJECT_PATH)\n",
    "os.chdir(PROJECT_PATH)"
   ]
  },
  {
   "cell_type": "code",
   "execution_count": 2,
   "metadata": {},
   "outputs": [],
   "source": [
    "import json\n",
    "import pandas as pd\n",
    "from pathlib import Path\n",
    "import re"
   ]
  },
  {
   "attachments": {},
   "cell_type": "markdown",
   "metadata": {},
   "source": [
    "## Load and clean Mus musculus MHC data from IMGT"
   ]
  },
  {
   "cell_type": "code",
   "execution_count": 3,
   "metadata": {},
   "outputs": [],
   "source": [
    "raw = pd.read_excel(Path('data')/'musmusculus_mhc_imgt.ods', engine='odf')"
   ]
  },
  {
   "cell_type": "code",
   "execution_count": 4,
   "metadata": {},
   "outputs": [],
   "source": [
    "cleaned = raw.ffill()\n",
    "cleaned.columns = ['class', 'subclass', 'gene', 'synonym']\n",
    "cleaned = cleaned.applymap(\n",
    "    lambda e: re.sub(r'\\[.+\\]|\\(.+\\)', '', e)\n",
    ")\n",
    "cleaned = cleaned.applymap(\n",
    "    lambda e: e.strip()\n",
    ")\n",
    "cleaned['synonym'] = cleaned['synonym'].map(\n",
    "    lambda s: [''.join(syn.split()) for syn in s.split(',')]\n",
    ")\n",
    "cleaned = cleaned.explode('synonym')"
   ]
  },
  {
   "cell_type": "code",
   "execution_count": 5,
   "metadata": {},
   "outputs": [
    {
     "data": {
      "text/html": [
       "<div>\n",
       "<style scoped>\n",
       "    .dataframe tbody tr th:only-of-type {\n",
       "        vertical-align: middle;\n",
       "    }\n",
       "\n",
       "    .dataframe tbody tr th {\n",
       "        vertical-align: top;\n",
       "    }\n",
       "\n",
       "    .dataframe thead th {\n",
       "        text-align: right;\n",
       "    }\n",
       "</style>\n",
       "<table border=\"1\" class=\"dataframe\">\n",
       "  <thead>\n",
       "    <tr style=\"text-align: right;\">\n",
       "      <th></th>\n",
       "      <th>class</th>\n",
       "      <th>subclass</th>\n",
       "      <th>gene</th>\n",
       "      <th>synonym</th>\n",
       "    </tr>\n",
       "  </thead>\n",
       "  <tbody>\n",
       "    <tr>\n",
       "      <th>0</th>\n",
       "      <td>IIa</td>\n",
       "      <td>H2-A</td>\n",
       "      <td>MH2-AA</td>\n",
       "      <td>H2-Aa</td>\n",
       "    </tr>\n",
       "    <tr>\n",
       "      <th>0</th>\n",
       "      <td>IIa</td>\n",
       "      <td>H2-A</td>\n",
       "      <td>MH2-AA</td>\n",
       "      <td>H-2Aa</td>\n",
       "    </tr>\n",
       "    <tr>\n",
       "      <th>0</th>\n",
       "      <td>IIa</td>\n",
       "      <td>H2-A</td>\n",
       "      <td>MH2-AA</td>\n",
       "      <td>H2-IA-alpha</td>\n",
       "    </tr>\n",
       "    <tr>\n",
       "      <th>0</th>\n",
       "      <td>IIa</td>\n",
       "      <td>H2-A</td>\n",
       "      <td>MH2-AA</td>\n",
       "      <td>I-AD-A</td>\n",
       "    </tr>\n",
       "    <tr>\n",
       "      <th>0</th>\n",
       "      <td>IIa</td>\n",
       "      <td>H2-A</td>\n",
       "      <td>MH2-AA</td>\n",
       "      <td>I-AK-A</td>\n",
       "    </tr>\n",
       "  </tbody>\n",
       "</table>\n",
       "</div>"
      ],
      "text/plain": [
       "  class subclass    gene      synonym\n",
       "0   IIa     H2-A  MH2-AA        H2-Aa\n",
       "0   IIa     H2-A  MH2-AA        H-2Aa\n",
       "0   IIa     H2-A  MH2-AA  H2-IA-alpha\n",
       "0   IIa     H2-A  MH2-AA       I-AD-A\n",
       "0   IIa     H2-A  MH2-AA       I-AK-A"
      ]
     },
     "execution_count": 5,
     "metadata": {},
     "output_type": "execute_result"
    }
   ],
   "source": [
    "cleaned.head()"
   ]
  },
  {
   "cell_type": "code",
   "execution_count": 6,
   "metadata": {},
   "outputs": [],
   "source": [
    "def parse_gene(org: str) -> tuple[str]:\n",
    "    if m := re.match(r'^(M?H[12])-([A-Z0-9\\-]+)$', org):\n",
    "        base = m.group(1)\n",
    "        gene = m.group(2)\n",
    "    \n",
    "    else:\n",
    "        raise RuntimeError(f'Cannot parse gene {org}.')\n",
    "    \n",
    "    return (base, gene)\n",
    "\n",
    "def parse_synonym(syn: str) -> tuple[str]:\n",
    "    syn = syn.upper()\n",
    "    syn = syn.replace('-', '')\n",
    "    syn = syn.replace('ALPHA', 'A')\n",
    "    syn = syn.replace('BETA', 'B')\n",
    "\n",
    "    if m := re.match(r'^H2([A-Z0-9\\.]+)$', syn):\n",
    "        base = 'H2'\n",
    "        gene = m.group(1)\n",
    "    \n",
    "    elif m := re.match(r'^[A-Z0-9\\.\\/\\']+$', syn):\n",
    "        base = None\n",
    "        gene = syn\n",
    "\n",
    "    else:\n",
    "        raise RuntimeError(f'Cannot parse synonym {syn}.')\n",
    "    \n",
    "    return (base, gene)"
   ]
  },
  {
   "cell_type": "code",
   "execution_count": 7,
   "metadata": {},
   "outputs": [],
   "source": [
    "cleaned['parsed gene'] = cleaned['gene'].map(parse_gene)\n",
    "cleaned['parsed synonym'] = cleaned['synonym'].map(parse_synonym)"
   ]
  },
  {
   "cell_type": "code",
   "execution_count": 8,
   "metadata": {},
   "outputs": [],
   "source": [
    "def make_tree(parsed: list) -> dict:\n",
    "    tree = dict()\n",
    "    \n",
    "    for base, gene in parsed:\n",
    "        if base in tree:\n",
    "            tree[base].append(gene)\n",
    "        \n",
    "        else:\n",
    "            tree[base] = [gene]\n",
    "\n",
    "    return tree"
   ]
  },
  {
   "cell_type": "code",
   "execution_count": 9,
   "metadata": {},
   "outputs": [],
   "source": [
    "alleles = make_tree(cleaned['parsed gene'].unique())"
   ]
  },
  {
   "cell_type": "code",
   "execution_count": 10,
   "metadata": {},
   "outputs": [],
   "source": [
    "unamb_syns = cleaned[['parsed gene', 'parsed synonym']].drop_duplicates()\n",
    "unamb_syns = unamb_syns.groupby('parsed synonym').aggregate(lambda x: x.tolist())\n",
    "unamb_syns = unamb_syns[unamb_syns['parsed gene'].map(len) == 1]\n",
    "unamb_syns['parsed gene'] = unamb_syns['parsed gene'].map(lambda l: l.pop())\n",
    "unamb_syns = unamb_syns[unamb_syns.index != unamb_syns['parsed gene']]\n",
    "\n",
    "syns = dict()\n",
    "\n",
    "for (base, gene), row in unamb_syns.iterrows():\n",
    "    real = row['parsed gene']\n",
    "\n",
    "    if base in syns:\n",
    "        syns[base][gene] = real\n",
    "    \n",
    "    else:\n",
    "        syns[base] = {gene: real}"
   ]
  },
  {
   "attachments": {},
   "cell_type": "markdown",
   "metadata": {},
   "source": [
    "## Export list of all MHCs"
   ]
  },
  {
   "cell_type": "code",
   "execution_count": 11,
   "metadata": {},
   "outputs": [],
   "source": [
    "with open(Path('src')/'tidytcells'/'resources'/'mhc_alleles_musmusculus.json', 'w') as f:\n",
    "    json.dump(alleles, f, indent=4)"
   ]
  },
  {
   "attachments": {},
   "cell_type": "markdown",
   "metadata": {},
   "source": [
    "## Export dict mapping synonyms"
   ]
  },
  {
   "cell_type": "code",
   "execution_count": 12,
   "metadata": {},
   "outputs": [],
   "source": [
    "with open(Path('src')/'tidytcells'/'resources'/'mhc_synonyms_musmusculus.json', 'w') as f:\n",
    "    json.dump(syns, f, indent=4)"
   ]
  },
  {
   "cell_type": "code",
   "execution_count": null,
   "metadata": {},
   "outputs": [],
   "source": []
  }
 ],
 "metadata": {
  "kernelspec": {
   "display_name": ".venv",
   "language": "python",
   "name": "python3"
  },
  "language_info": {
   "codemirror_mode": {
    "name": "ipython",
    "version": 3
   },
   "file_extension": ".py",
   "mimetype": "text/x-python",
   "name": "python",
   "nbconvert_exporter": "python",
   "pygments_lexer": "ipython3",
   "version": "3.11.1 (main, Dec  7 2022, 00:00:00) [GCC 12.2.1 20221121 (Red Hat 12.2.1-4)]"
  },
  "orig_nbformat": 4,
  "vscode": {
   "interpreter": {
    "hash": "e9113dead31263b73eafaec25dace067586105dc5705e88fed689dacfad72cc7"
   }
  }
 },
 "nbformat": 4,
 "nbformat_minor": 2
}
