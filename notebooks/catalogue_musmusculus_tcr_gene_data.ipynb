{
 "cells": [
  {
   "attachments": {},
   "cell_type": "markdown",
   "metadata": {},
   "source": [
    "# Catalogueing Mus musculus TCR gene reference data"
   ]
  },
  {
   "cell_type": "code",
   "execution_count": 1,
   "metadata": {},
   "outputs": [],
   "source": [
    "import sys\n",
    "import os\n",
    "from pathlib import Path\n",
    "\n",
    "if not 'PROJECT_PATH' in globals():\n",
    "    PROJECT_PATH = Path.cwd().parent.resolve()\n",
    "\n",
    "sys.path.append(PROJECT_PATH)\n",
    "os.chdir(PROJECT_PATH)"
   ]
  },
  {
   "cell_type": "code",
   "execution_count": 3,
   "metadata": {},
   "outputs": [],
   "source": [
    "import json\n",
    "import pandas as pd\n",
    "import re"
   ]
  },
  {
   "cell_type": "markdown",
   "metadata": {},
   "source": [
    "## Catalogueing a table of all known TCR genes/alleles"
   ]
  },
  {
   "cell_type": "code",
   "execution_count": 14,
   "metadata": {},
   "outputs": [],
   "source": [
    "travs = pd.read_csv('/home/yutanagano/UCLOneDrive/graph-gang-databases/data/hnc_imgt/human_trav_imgt.csv')\n",
    "trajs = pd.read_csv('/home/yutanagano/UCLOneDrive/graph-gang-databases/data/hnc_imgt/human_traj_imgt.csv')\n",
    "trbvs = pd.read_csv('/home/yutanagano/UCLOneDrive/graph-gang-databases/data/hnc_imgt/human_trbv_imgt.csv')\n",
    "trbjs = pd.read_csv('/home/yutanagano/UCLOneDrive/graph-gang-databases/data/hnc_imgt/human_trbj_imgt.csv')"
   ]
  },
  {
   "cell_type": "code",
   "execution_count": 15,
   "metadata": {},
   "outputs": [],
   "source": [
    "def compile_tcr(base, num1, num2, p, or92, d_designation) -> str:\n",
    "    compiled = 'TR' + base + num1\n",
    "\n",
    "    if num2:\n",
    "        compiled = compiled + '-' + num2\n",
    "\n",
    "    if p:\n",
    "        compiled = compiled + 'P'\n",
    "\n",
    "    if d_designation:\n",
    "        compiled = compiled + 'DV' + d_designation\n",
    "    \n",
    "    if or92:\n",
    "        compiled = compiled + 'OR9-2'\n",
    "\n",
    "    return compiled\n",
    "\n",
    "def decompose_v(df: pd.DataFrame, chain: str) -> pd.DataFrame:\n",
    "    gene_base_to_d_designation = {}\n",
    "\n",
    "    def _decompose_row(row, chain: str) -> tuple:\n",
    "        m = re.match(r'^(\\d+)(-(\\d+))?(/DV(\\d+))?(/OR9-2)?$', row['gene_name'])\n",
    "\n",
    "        num1 = m.group(1)\n",
    "        num2 = m.group(3)\n",
    "        or92 = True if m.group(6) else False\n",
    "        d_designation = m.group(5)\n",
    "\n",
    "        gene_str = compile_tcr(\n",
    "            chain+'V',\n",
    "            num1,\n",
    "            num2,\n",
    "            False,\n",
    "            or92,\n",
    "            d_designation\n",
    "        )\n",
    "\n",
    "        if d_designation:\n",
    "            gene_base_to_d_designation[\n",
    "                f'TR{chain}V{num1}' if num2 is None\n",
    "                else f'TR{chain}V{num1}-{num2}'\n",
    "            ] = d_designation\n",
    "\n",
    "        allele_num = row['allele_name'].split('*')[-1]\n",
    "\n",
    "        return (gene_str, allele_num)\n",
    "    \n",
    "    result = pd.DataFrame()\n",
    "    result[['approved_symbol', 'alleles']] = df.apply(\n",
    "        lambda row: _decompose_row(row, chain),\n",
    "        axis=1,\n",
    "        result_type='expand'\n",
    "    )\n",
    "    \n",
    "    return result, gene_base_to_d_designation\n",
    "\n",
    "def decompose_j(df: pd.DataFrame) -> pd.DataFrame:\n",
    "    def _decompose_row(row) -> tuple:\n",
    "        m = re.match(r'^TR([AB]J)(\\d+)(-(\\d+)(P)?)?\\*(\\d+)$', row['allele_name'])\n",
    "\n",
    "        if m is None:\n",
    "            print(row['allele_name'])\n",
    "\n",
    "        base = m.group(1)\n",
    "        num1 = m.group(2)\n",
    "        num2 = m.group(4)\n",
    "        p = True if m.group(5) else False\n",
    "\n",
    "        gene_str = compile_tcr(\n",
    "            base,\n",
    "            num1,\n",
    "            num2,\n",
    "            p,\n",
    "            False,\n",
    "            None\n",
    "        )\n",
    "\n",
    "        allele_num = m.group(6)\n",
    "\n",
    "        return (gene_str, allele_num)\n",
    "    \n",
    "    result = pd.DataFrame()\n",
    "    result[['approved_symbol', 'alleles']] = df.apply(\n",
    "        lambda row: _decompose_row(row),\n",
    "        axis=1,\n",
    "        result_type='expand'\n",
    "    )\n",
    "    \n",
    "    return result"
   ]
  },
  {
   "cell_type": "code",
   "execution_count": 16,
   "metadata": {},
   "outputs": [],
   "source": [
    "travs_decomposed, trav_ds = decompose_v(travs, 'A')\n",
    "trbvs_decomposed, trbv_ds = decompose_v(trbvs, 'B')\n",
    "\n",
    "trajs_decomposed = decompose_j(trajs)\n",
    "trbjs_decomposed = decompose_j(trbjs)\n",
    "\n",
    "tcr_alleles_exhaustive = pd.concat(\n",
    "    [travs_decomposed, trbvs_decomposed, trajs_decomposed, trbjs_decomposed]\n",
    ").groupby('approved_symbol').aggregate(lambda x: x.tolist())"
   ]
  },
  {
   "cell_type": "code",
   "execution_count": 17,
   "metadata": {},
   "outputs": [],
   "source": [
    "tcr_alleles_exhaustive['alleles'].to_json(\n",
    "    'src/resources/human_tcr_alleles_exhaustive.json',\n",
    "    indent=4\n",
    ")"
   ]
  },
  {
   "cell_type": "code",
   "execution_count": 18,
   "metadata": {},
   "outputs": [],
   "source": [
    "with open('src/resources/human_tcr_d_designations.json', 'w') as f:\n",
    "    json.dump({**trav_ds, **trbv_ds},f,indent=4)"
   ]
  },
  {
   "cell_type": "code",
   "execution_count": null,
   "metadata": {},
   "outputs": [],
   "source": []
  }
 ],
 "metadata": {
  "kernelspec": {
   "display_name": "Python 3.10.4 ('tcr_graph_database')",
   "language": "python",
   "name": "python3"
  },
  "language_info": {
   "codemirror_mode": {
    "name": "ipython",
    "version": 3
   },
   "file_extension": ".py",
   "mimetype": "text/x-python",
   "name": "python",
   "nbconvert_exporter": "python",
   "pygments_lexer": "ipython3",
   "version": "3.10.6"
  },
  "orig_nbformat": 4,
  "vscode": {
   "interpreter": {
    "hash": "f3e521ebf913b7e27d1ce3d6409de88d94c707a8ef9baf0bbdd33640281668f3"
   }
  }
 },
 "nbformat": 4,
 "nbformat_minor": 2
}
