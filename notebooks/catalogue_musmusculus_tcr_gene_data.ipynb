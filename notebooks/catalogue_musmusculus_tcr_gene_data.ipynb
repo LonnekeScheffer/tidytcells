{
 "cells": [
  {
   "attachments": {},
   "cell_type": "markdown",
   "metadata": {},
   "source": [
    "# Catalogueing Mus musculus TCR gene reference data"
   ]
  },
  {
   "cell_type": "code",
   "execution_count": 4,
   "metadata": {},
   "outputs": [],
   "source": [
    "import sys\n",
    "import os\n",
    "from pathlib import Path\n",
    "\n",
    "if not 'PROJECT_PATH' in globals():\n",
    "    PROJECT_PATH = Path.cwd().parent.resolve()\n",
    "\n",
    "sys.path.append(PROJECT_PATH)\n",
    "os.chdir(PROJECT_PATH)"
   ]
  },
  {
   "cell_type": "code",
   "execution_count": 5,
   "metadata": {},
   "outputs": [],
   "source": [
    "import json\n",
    "import pandas as pd\n",
    "import re"
   ]
  },
  {
   "cell_type": "markdown",
   "metadata": {},
   "source": [
    "## Catalogueing a table of all known TCR genes/alleles"
   ]
  },
  {
   "cell_type": "code",
   "execution_count": 7,
   "metadata": {},
   "outputs": [],
   "source": [
    "travs = pd.read_csv('data/musmusculus_trav_imgt.csv')\n",
    "trajs = pd.read_csv('data/musmusculus_traj_imgt.csv')\n",
    "trbvs = pd.read_csv('data/musmusculus_trbv_imgt.csv')\n",
    "trbjs = pd.read_csv('data/musmusculus_trbj_imgt.csv')"
   ]
  },
  {
   "cell_type": "code",
   "execution_count": 8,
   "metadata": {},
   "outputs": [],
   "source": [
    "def compile_tcr(base, num1, num2, p, or92, d_designation) -> str:\n",
    "    compiled = 'TR' + base + num1\n",
    "\n",
    "    if num2:\n",
    "        compiled = compiled + '-' + num2\n",
    "\n",
    "    if p:\n",
    "        compiled = compiled + 'P'\n",
    "\n",
    "    if d_designation:\n",
    "        compiled = compiled + 'DV' + d_designation\n",
    "    \n",
    "    if or92:\n",
    "        compiled = compiled + 'OR9-2'\n",
    "\n",
    "    return compiled\n",
    "\n",
    "def decompose_v(df: pd.DataFrame, chain: str) -> pd.DataFrame:\n",
    "    gene_base_to_d_designation = {}\n",
    "\n",
    "    def _decompose_row(row, chain: str) -> tuple:\n",
    "        m = re.match(r'^(\\d+)(-(\\d+))?(/DV(\\d+))?(/OR9-2)?$', row['gene_name'])\n",
    "\n",
    "        if m is None:\n",
    "            print(row['gene_name'])\n",
    "\n",
    "        num1 = m.group(1)\n",
    "        num2 = m.group(3)\n",
    "        or92 = True if m.group(6) else False\n",
    "        d_designation = m.group(5)\n",
    "\n",
    "        gene_str = compile_tcr(\n",
    "            chain+'V',\n",
    "            num1,\n",
    "            num2,\n",
    "            False,\n",
    "            or92,\n",
    "            d_designation\n",
    "        )\n",
    "\n",
    "        if d_designation:\n",
    "            gene_base_to_d_designation[\n",
    "                f'TR{chain}V{num1}' if num2 is None\n",
    "                else f'TR{chain}V{num1}-{num2}'\n",
    "            ] = d_designation\n",
    "\n",
    "        allele_num = row['allele_name'].split('*')[-1]\n",
    "\n",
    "        return (gene_str, allele_num)\n",
    "    \n",
    "    result = pd.DataFrame()\n",
    "    result[['approved_symbol', 'alleles']] = df.apply(\n",
    "        lambda row: _decompose_row(row, chain),\n",
    "        axis=1,\n",
    "        result_type='expand'\n",
    "    )\n",
    "    \n",
    "    return result, gene_base_to_d_designation\n",
    "\n",
    "def decompose_j(df: pd.DataFrame) -> pd.DataFrame:\n",
    "    def _decompose_row(row) -> tuple:\n",
    "        m = re.match(r'^TR([AB]J)(\\d+)(-(\\d+)(P)?)?\\*(\\d+)$', row['allele_name'])\n",
    "\n",
    "        if m is None:\n",
    "            print(row['allele_name'])\n",
    "\n",
    "        base = m.group(1)\n",
    "        num1 = m.group(2)\n",
    "        num2 = m.group(4)\n",
    "        p = True if m.group(5) else False\n",
    "\n",
    "        gene_str = compile_tcr(\n",
    "            base,\n",
    "            num1,\n",
    "            num2,\n",
    "            p,\n",
    "            False,\n",
    "            None\n",
    "        )\n",
    "\n",
    "        allele_num = m.group(6)\n",
    "\n",
    "        return (gene_str, allele_num)\n",
    "    \n",
    "    result = pd.DataFrame()\n",
    "    result[['approved_symbol', 'alleles']] = df.apply(\n",
    "        lambda row: _decompose_row(row),\n",
    "        axis=1,\n",
    "        result_type='expand'\n",
    "    )\n",
    "    \n",
    "    return result"
   ]
  },
  {
   "cell_type": "code",
   "execution_count": 9,
   "metadata": {},
   "outputs": [
    {
     "ename": "AttributeError",
     "evalue": "'NoneType' object has no attribute 'group'",
     "output_type": "error",
     "traceback": [
      "\u001b[0;31m---------------------------------------------------------------------------\u001b[0m",
      "\u001b[0;31mAttributeError\u001b[0m                            Traceback (most recent call last)",
      "Cell \u001b[0;32mIn[9], line 1\u001b[0m\n\u001b[0;32m----> 1\u001b[0m travs_decomposed, trav_ds \u001b[39m=\u001b[39m decompose_v(travs, \u001b[39m'\u001b[39;49m\u001b[39mA\u001b[39;49m\u001b[39m'\u001b[39;49m)\n\u001b[1;32m      2\u001b[0m trbvs_decomposed, trbv_ds \u001b[39m=\u001b[39m decompose_v(trbvs, \u001b[39m'\u001b[39m\u001b[39mB\u001b[39m\u001b[39m'\u001b[39m)\n\u001b[1;32m      4\u001b[0m trajs_decomposed \u001b[39m=\u001b[39m decompose_j(trajs)\n",
      "Cell \u001b[0;32mIn[8], line 49\u001b[0m, in \u001b[0;36mdecompose_v\u001b[0;34m(df, chain)\u001b[0m\n\u001b[1;32m     46\u001b[0m     \u001b[39mreturn\u001b[39;00m (gene_str, allele_num)\n\u001b[1;32m     48\u001b[0m result \u001b[39m=\u001b[39m pd\u001b[39m.\u001b[39mDataFrame()\n\u001b[0;32m---> 49\u001b[0m result[[\u001b[39m'\u001b[39m\u001b[39mapproved_symbol\u001b[39m\u001b[39m'\u001b[39m, \u001b[39m'\u001b[39m\u001b[39malleles\u001b[39m\u001b[39m'\u001b[39m]] \u001b[39m=\u001b[39m df\u001b[39m.\u001b[39;49mapply(\n\u001b[1;32m     50\u001b[0m     \u001b[39mlambda\u001b[39;49;00m row: _decompose_row(row, chain),\n\u001b[1;32m     51\u001b[0m     axis\u001b[39m=\u001b[39;49m\u001b[39m1\u001b[39;49m,\n\u001b[1;32m     52\u001b[0m     result_type\u001b[39m=\u001b[39;49m\u001b[39m'\u001b[39;49m\u001b[39mexpand\u001b[39;49m\u001b[39m'\u001b[39;49m\n\u001b[1;32m     53\u001b[0m )\n\u001b[1;32m     55\u001b[0m \u001b[39mreturn\u001b[39;00m result, gene_base_to_d_designation\n",
      "File \u001b[0;32m~/Projects/tidytcells/.venv/lib64/python3.11/site-packages/pandas/core/frame.py:9565\u001b[0m, in \u001b[0;36mDataFrame.apply\u001b[0;34m(self, func, axis, raw, result_type, args, **kwargs)\u001b[0m\n\u001b[1;32m   9554\u001b[0m \u001b[39mfrom\u001b[39;00m \u001b[39mpandas\u001b[39;00m\u001b[39m.\u001b[39;00m\u001b[39mcore\u001b[39;00m\u001b[39m.\u001b[39;00m\u001b[39mapply\u001b[39;00m \u001b[39mimport\u001b[39;00m frame_apply\n\u001b[1;32m   9556\u001b[0m op \u001b[39m=\u001b[39m frame_apply(\n\u001b[1;32m   9557\u001b[0m     \u001b[39mself\u001b[39m,\n\u001b[1;32m   9558\u001b[0m     func\u001b[39m=\u001b[39mfunc,\n\u001b[0;32m   (...)\u001b[0m\n\u001b[1;32m   9563\u001b[0m     kwargs\u001b[39m=\u001b[39mkwargs,\n\u001b[1;32m   9564\u001b[0m )\n\u001b[0;32m-> 9565\u001b[0m \u001b[39mreturn\u001b[39;00m op\u001b[39m.\u001b[39;49mapply()\u001b[39m.\u001b[39m__finalize__(\u001b[39mself\u001b[39m, method\u001b[39m=\u001b[39m\u001b[39m\"\u001b[39m\u001b[39mapply\u001b[39m\u001b[39m\"\u001b[39m)\n",
      "File \u001b[0;32m~/Projects/tidytcells/.venv/lib64/python3.11/site-packages/pandas/core/apply.py:746\u001b[0m, in \u001b[0;36mFrameApply.apply\u001b[0;34m(self)\u001b[0m\n\u001b[1;32m    743\u001b[0m \u001b[39melif\u001b[39;00m \u001b[39mself\u001b[39m\u001b[39m.\u001b[39mraw:\n\u001b[1;32m    744\u001b[0m     \u001b[39mreturn\u001b[39;00m \u001b[39mself\u001b[39m\u001b[39m.\u001b[39mapply_raw()\n\u001b[0;32m--> 746\u001b[0m \u001b[39mreturn\u001b[39;00m \u001b[39mself\u001b[39;49m\u001b[39m.\u001b[39;49mapply_standard()\n",
      "File \u001b[0;32m~/Projects/tidytcells/.venv/lib64/python3.11/site-packages/pandas/core/apply.py:873\u001b[0m, in \u001b[0;36mFrameApply.apply_standard\u001b[0;34m(self)\u001b[0m\n\u001b[1;32m    872\u001b[0m \u001b[39mdef\u001b[39;00m \u001b[39mapply_standard\u001b[39m(\u001b[39mself\u001b[39m):\n\u001b[0;32m--> 873\u001b[0m     results, res_index \u001b[39m=\u001b[39m \u001b[39mself\u001b[39;49m\u001b[39m.\u001b[39;49mapply_series_generator()\n\u001b[1;32m    875\u001b[0m     \u001b[39m# wrap results\u001b[39;00m\n\u001b[1;32m    876\u001b[0m     \u001b[39mreturn\u001b[39;00m \u001b[39mself\u001b[39m\u001b[39m.\u001b[39mwrap_results(results, res_index)\n",
      "File \u001b[0;32m~/Projects/tidytcells/.venv/lib64/python3.11/site-packages/pandas/core/apply.py:889\u001b[0m, in \u001b[0;36mFrameApply.apply_series_generator\u001b[0;34m(self)\u001b[0m\n\u001b[1;32m    886\u001b[0m \u001b[39mwith\u001b[39;00m option_context(\u001b[39m\"\u001b[39m\u001b[39mmode.chained_assignment\u001b[39m\u001b[39m\"\u001b[39m, \u001b[39mNone\u001b[39;00m):\n\u001b[1;32m    887\u001b[0m     \u001b[39mfor\u001b[39;00m i, v \u001b[39min\u001b[39;00m \u001b[39menumerate\u001b[39m(series_gen):\n\u001b[1;32m    888\u001b[0m         \u001b[39m# ignore SettingWithCopy here in case the user mutates\u001b[39;00m\n\u001b[0;32m--> 889\u001b[0m         results[i] \u001b[39m=\u001b[39m \u001b[39mself\u001b[39;49m\u001b[39m.\u001b[39;49mf(v)\n\u001b[1;32m    890\u001b[0m         \u001b[39mif\u001b[39;00m \u001b[39misinstance\u001b[39m(results[i], ABCSeries):\n\u001b[1;32m    891\u001b[0m             \u001b[39m# If we have a view on v, we need to make a copy because\u001b[39;00m\n\u001b[1;32m    892\u001b[0m             \u001b[39m#  series_generator will swap out the underlying data\u001b[39;00m\n\u001b[1;32m    893\u001b[0m             results[i] \u001b[39m=\u001b[39m results[i]\u001b[39m.\u001b[39mcopy(deep\u001b[39m=\u001b[39m\u001b[39mFalse\u001b[39;00m)\n",
      "Cell \u001b[0;32mIn[8], line 50\u001b[0m, in \u001b[0;36mdecompose_v.<locals>.<lambda>\u001b[0;34m(row)\u001b[0m\n\u001b[1;32m     46\u001b[0m     \u001b[39mreturn\u001b[39;00m (gene_str, allele_num)\n\u001b[1;32m     48\u001b[0m result \u001b[39m=\u001b[39m pd\u001b[39m.\u001b[39mDataFrame()\n\u001b[1;32m     49\u001b[0m result[[\u001b[39m'\u001b[39m\u001b[39mapproved_symbol\u001b[39m\u001b[39m'\u001b[39m, \u001b[39m'\u001b[39m\u001b[39malleles\u001b[39m\u001b[39m'\u001b[39m]] \u001b[39m=\u001b[39m df\u001b[39m.\u001b[39mapply(\n\u001b[0;32m---> 50\u001b[0m     \u001b[39mlambda\u001b[39;00m row: _decompose_row(row, chain),\n\u001b[1;32m     51\u001b[0m     axis\u001b[39m=\u001b[39m\u001b[39m1\u001b[39m,\n\u001b[1;32m     52\u001b[0m     result_type\u001b[39m=\u001b[39m\u001b[39m'\u001b[39m\u001b[39mexpand\u001b[39m\u001b[39m'\u001b[39m\n\u001b[1;32m     53\u001b[0m )\n\u001b[1;32m     55\u001b[0m \u001b[39mreturn\u001b[39;00m result, gene_base_to_d_designation\n",
      "Cell \u001b[0;32mIn[8], line 24\u001b[0m, in \u001b[0;36mdecompose_v.<locals>._decompose_row\u001b[0;34m(row, chain)\u001b[0m\n\u001b[1;32m     21\u001b[0m \u001b[39mdef\u001b[39;00m \u001b[39m_decompose_row\u001b[39m(row, chain: \u001b[39mstr\u001b[39m) \u001b[39m-\u001b[39m\u001b[39m>\u001b[39m \u001b[39mtuple\u001b[39m:\n\u001b[1;32m     22\u001b[0m     m \u001b[39m=\u001b[39m re\u001b[39m.\u001b[39mmatch(\u001b[39mr\u001b[39m\u001b[39m'\u001b[39m\u001b[39m^(\u001b[39m\u001b[39m\\\u001b[39m\u001b[39md+)(-(\u001b[39m\u001b[39m\\\u001b[39m\u001b[39md+))?(/DV(\u001b[39m\u001b[39m\\\u001b[39m\u001b[39md+))?(/OR9-2)?$\u001b[39m\u001b[39m'\u001b[39m, row[\u001b[39m'\u001b[39m\u001b[39mgene_name\u001b[39m\u001b[39m'\u001b[39m])\n\u001b[0;32m---> 24\u001b[0m     num1 \u001b[39m=\u001b[39m m\u001b[39m.\u001b[39;49mgroup(\u001b[39m1\u001b[39m)\n\u001b[1;32m     25\u001b[0m     num2 \u001b[39m=\u001b[39m m\u001b[39m.\u001b[39mgroup(\u001b[39m3\u001b[39m)\n\u001b[1;32m     26\u001b[0m     or92 \u001b[39m=\u001b[39m \u001b[39mTrue\u001b[39;00m \u001b[39mif\u001b[39;00m m\u001b[39m.\u001b[39mgroup(\u001b[39m6\u001b[39m) \u001b[39melse\u001b[39;00m \u001b[39mFalse\u001b[39;00m\n",
      "\u001b[0;31mAttributeError\u001b[0m: 'NoneType' object has no attribute 'group'"
     ]
    }
   ],
   "source": [
    "travs_decomposed, trav_ds = decompose_v(travs, 'A')\n",
    "trbvs_decomposed, trbv_ds = decompose_v(trbvs, 'B')\n",
    "\n",
    "trajs_decomposed = decompose_j(trajs)\n",
    "trbjs_decomposed = decompose_j(trbjs)\n",
    "\n",
    "tcr_alleles_exhaustive = pd.concat(\n",
    "    [travs_decomposed, trbvs_decomposed, trajs_decomposed, trbjs_decomposed]\n",
    ").groupby('approved_symbol').aggregate(lambda x: x.tolist())"
   ]
  },
  {
   "cell_type": "code",
   "execution_count": 17,
   "metadata": {},
   "outputs": [],
   "source": [
    "tcr_alleles_exhaustive['alleles'].to_json(\n",
    "    'src/resources/human_tcr_alleles_exhaustive.json',\n",
    "    indent=4\n",
    ")"
   ]
  },
  {
   "cell_type": "code",
   "execution_count": 18,
   "metadata": {},
   "outputs": [],
   "source": [
    "with open('src/resources/human_tcr_d_designations.json', 'w') as f:\n",
    "    json.dump({**trav_ds, **trbv_ds},f,indent=4)"
   ]
  },
  {
   "cell_type": "code",
   "execution_count": null,
   "metadata": {},
   "outputs": [],
   "source": []
  }
 ],
 "metadata": {
  "kernelspec": {
   "display_name": ".venv",
   "language": "python",
   "name": "python3"
  },
  "language_info": {
   "codemirror_mode": {
    "name": "ipython",
    "version": 3
   },
   "file_extension": ".py",
   "mimetype": "text/x-python",
   "name": "python",
   "nbconvert_exporter": "python",
   "pygments_lexer": "ipython3",
   "version": "3.11.1"
  },
  "orig_nbformat": 4,
  "vscode": {
   "interpreter": {
    "hash": "e9113dead31263b73eafaec25dace067586105dc5705e88fed689dacfad72cc7"
   }
  }
 },
 "nbformat": 4,
 "nbformat_minor": 2
}
