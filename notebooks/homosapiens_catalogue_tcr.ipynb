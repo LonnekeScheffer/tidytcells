{
 "cells": [
  {
   "attachments": {},
   "cell_type": "markdown",
   "metadata": {},
   "source": [
    "# Catalogue TCR genes (Homo sapiens)"
   ]
  },
  {
   "cell_type": "code",
   "execution_count": 18,
   "metadata": {},
   "outputs": [],
   "source": [
    "import sys\n",
    "import os\n",
    "from pathlib import Path\n",
    "\n",
    "if not 'PROJECT_PATH' in globals():\n",
    "    PROJECT_PATH = Path.cwd().parent.resolve()\n",
    "\n",
    "sys.path.append(PROJECT_PATH)\n",
    "os.chdir(PROJECT_PATH)"
   ]
  },
  {
   "cell_type": "code",
   "execution_count": 19,
   "metadata": {},
   "outputs": [],
   "source": [
    "import json\n",
    "import pandas as pd"
   ]
  },
  {
   "attachments": {},
   "cell_type": "markdown",
   "metadata": {},
   "source": [
    "## List all TCR genes and alleles"
   ]
  },
  {
   "cell_type": "code",
   "execution_count": 20,
   "metadata": {},
   "outputs": [],
   "source": [
    "alleles = dict()\n",
    "\n",
    "with open(Path('data')/'homosapiens_tcr.fasta', 'r') as f:\n",
    "    for line in f.readlines():\n",
    "        if line.startswith('>'):\n",
    "            fields = line.split('|')\n",
    "            allele_name = fields[1]\n",
    "            gene = allele_name.split('*')[0]\n",
    "            allele_designation = allele_name.split('*')[1]\n",
    "            functionality = fields[3].strip('()[]')\n",
    "\n",
    "            if not gene in alleles:\n",
    "                alleles[gene] = dict()\n",
    "            \n",
    "            alleles[gene][allele_designation] = functionality"
   ]
  },
  {
   "cell_type": "code",
   "execution_count": 21,
   "metadata": {},
   "outputs": [],
   "source": [
    "with open(Path('src')/'tidytcells'/'resources'/'homosapiens_tcr.json', 'w') as f:\n",
    "    json.dump(alleles, f, indent=4)"
   ]
  },
  {
   "attachments": {},
   "cell_type": "markdown",
   "metadata": {},
   "source": [
    "## Get deprecated names/synonyms"
   ]
  },
  {
   "cell_type": "code",
   "execution_count": 22,
   "metadata": {},
   "outputs": [],
   "source": [
    "hgnc = pd.read_csv(Path('data')/'hgnc.tsv', sep='\\t')"
   ]
  },
  {
   "cell_type": "code",
   "execution_count": 23,
   "metadata": {},
   "outputs": [],
   "source": [
    "# Get only TCR genes\n",
    "tcr_genes = hgnc[hgnc['Locus type'].str.contains('T cell receptor gene')].copy()"
   ]
  },
  {
   "cell_type": "code",
   "execution_count": 24,
   "metadata": {},
   "outputs": [],
   "source": [
    "# Put back slashes behind DV designations and OR designations\n",
    "tcr_genes['Approved symbol'] = tcr_genes['Approved symbol'].str.replace(r'(?<!TR)DV', '/DV', regex=True)\n",
    "tcr_genes['Approved symbol'] = tcr_genes['Approved symbol'].str.replace(r'OR', '/OR', regex=True)"
   ]
  },
  {
   "cell_type": "code",
   "execution_count": 25,
   "metadata": {},
   "outputs": [],
   "source": [
    "# Only keep genes whose 'approved symbols' are in our IMGT list\n",
    "tcr_genes = tcr_genes[tcr_genes['Approved symbol'].map(lambda x: x in alleles)].copy()"
   ]
  },
  {
   "cell_type": "code",
   "execution_count": 26,
   "metadata": {},
   "outputs": [],
   "source": [
    "# Get TCR genes with aliases\n",
    "tcr_genes_with_aliases = tcr_genes[tcr_genes['Alias symbols'].notna()][['Approved symbol', 'Alias symbols']]\n",
    "tcr_genes_with_aliases['Alias symbols'] = tcr_genes_with_aliases['Alias symbols'].map(lambda x: x.split(', '))\n",
    "tcr_genes_with_aliases.columns = ['Approved symbol', 'Synonym']\n",
    "tcr_genes_with_aliases = tcr_genes_with_aliases.explode('Synonym')"
   ]
  },
  {
   "cell_type": "code",
   "execution_count": 27,
   "metadata": {},
   "outputs": [],
   "source": [
    "# Get TCR genes with deprecated names\n",
    "tcr_genes_with_depnames = tcr_genes[tcr_genes['Previous symbols'].notna()][['Approved symbol', 'Previous symbols']]\n",
    "tcr_genes_with_depnames['Previous symbols'] = tcr_genes_with_depnames['Previous symbols'].map(lambda x: x.split(', '))\n",
    "tcr_genes_with_depnames.columns = ['Approved symbol', 'Synonym']\n",
    "tcr_genes_with_depnames = tcr_genes_with_depnames.explode('Synonym')"
   ]
  },
  {
   "cell_type": "code",
   "execution_count": 28,
   "metadata": {},
   "outputs": [],
   "source": [
    "# Combine both tables\n",
    "tcr_synonyms = pd.concat([tcr_genes_with_aliases, tcr_genes_with_depnames])\n",
    "\n",
    "# Remove any names that are now redundant (approved symbol and synonym are the same)\n",
    "tcr_synonyms = tcr_synonyms[tcr_synonyms['Approved symbol'] != tcr_synonyms['Synonym']]\n",
    "\n",
    "# Group together by synonym\n",
    "tcr_synonyms = tcr_synonyms.groupby('Synonym').aggregate(lambda x: x.tolist())"
   ]
  },
  {
   "cell_type": "code",
   "execution_count": 29,
   "metadata": {},
   "outputs": [],
   "source": [
    "# Remove ambiguous synonyms\n",
    "tcr_synonyms = tcr_synonyms[tcr_synonyms['Approved symbol'].map(len) == 1].copy()\n",
    "tcr_synonyms['Approved symbol'] = tcr_synonyms['Approved symbol'].map(lambda x: x.pop())\n",
    "tcr_synonyms.index = tcr_synonyms.index.str.upper()"
   ]
  },
  {
   "cell_type": "code",
   "execution_count": 30,
   "metadata": {},
   "outputs": [],
   "source": [
    "tcr_synonyms['Approved symbol'].to_json(\n",
    "    Path('src')/'tidytcells'/'resources'/'homosapiens_tcr_synonyms.json',\n",
    "    indent=4\n",
    ")"
   ]
  },
  {
   "cell_type": "code",
   "execution_count": null,
   "metadata": {},
   "outputs": [],
   "source": []
  }
 ],
 "metadata": {
  "kernelspec": {
   "display_name": ".venv",
   "language": "python",
   "name": "python3"
  },
  "language_info": {
   "codemirror_mode": {
    "name": "ipython",
    "version": 3
   },
   "file_extension": ".py",
   "mimetype": "text/x-python",
   "name": "python",
   "nbconvert_exporter": "python",
   "pygments_lexer": "ipython3",
   "version": "3.11.1"
  },
  "orig_nbformat": 4,
  "vscode": {
   "interpreter": {
    "hash": "e9113dead31263b73eafaec25dace067586105dc5705e88fed689dacfad72cc7"
   }
  }
 },
 "nbformat": 4,
 "nbformat_minor": 2
}
