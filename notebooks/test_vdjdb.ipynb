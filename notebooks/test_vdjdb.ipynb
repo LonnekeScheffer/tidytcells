{
 "cells": [
  {
   "attachments": {},
   "cell_type": "markdown",
   "metadata": {},
   "source": [
    "# Practical test of standardiser coverage on VDJdb data"
   ]
  },
  {
   "attachments": {},
   "cell_type": "markdown",
   "metadata": {},
   "source": [
    "## Setup"
   ]
  },
  {
   "cell_type": "code",
   "execution_count": 1,
   "metadata": {},
   "outputs": [],
   "source": [
    "import sys\n",
    "import os\n",
    "from pathlib import Path\n",
    "\n",
    "if not \"PROJECT_PATH\" in globals():\n",
    "    PROJECT_PATH = Path.cwd().parent.resolve()\n",
    "\n",
    "sys.path.append(PROJECT_PATH)\n",
    "os.chdir(PROJECT_PATH)"
   ]
  },
  {
   "cell_type": "code",
   "execution_count": 2,
   "metadata": {},
   "outputs": [],
   "source": [
    "import json\n",
    "import pandas as pd\n",
    "import re\n",
    "import tidytcells"
   ]
  },
  {
   "cell_type": "code",
   "execution_count": 3,
   "metadata": {},
   "outputs": [],
   "source": [
    "df = pd.read_csv(Path(\"data\") / \"vdjdb.tsv.gz\", sep=\"\\t\")"
   ]
  },
  {
   "cell_type": "code",
   "execution_count": 4,
   "metadata": {},
   "outputs": [
    {
     "data": {
      "text/html": [
       "<div>\n",
       "<style scoped>\n",
       "    .dataframe tbody tr th:only-of-type {\n",
       "        vertical-align: middle;\n",
       "    }\n",
       "\n",
       "    .dataframe tbody tr th {\n",
       "        vertical-align: top;\n",
       "    }\n",
       "\n",
       "    .dataframe thead th {\n",
       "        text-align: right;\n",
       "    }\n",
       "</style>\n",
       "<table border=\"1\" class=\"dataframe\">\n",
       "  <thead>\n",
       "    <tr style=\"text-align: right;\">\n",
       "      <th></th>\n",
       "      <th>complex.id</th>\n",
       "      <th>Gene</th>\n",
       "      <th>CDR3</th>\n",
       "      <th>V</th>\n",
       "      <th>J</th>\n",
       "      <th>Species</th>\n",
       "      <th>MHC A</th>\n",
       "      <th>MHC B</th>\n",
       "      <th>MHC class</th>\n",
       "      <th>Epitope</th>\n",
       "      <th>Epitope gene</th>\n",
       "      <th>Epitope species</th>\n",
       "      <th>Reference</th>\n",
       "      <th>Method</th>\n",
       "      <th>Meta</th>\n",
       "      <th>CDR3fix</th>\n",
       "      <th>Score</th>\n",
       "    </tr>\n",
       "  </thead>\n",
       "  <tbody>\n",
       "    <tr>\n",
       "      <th>0</th>\n",
       "      <td>1</td>\n",
       "      <td>TRA</td>\n",
       "      <td>CIVRAPGRADMRF</td>\n",
       "      <td>TRAV26-1*01</td>\n",
       "      <td>TRAJ43*01</td>\n",
       "      <td>HomoSapiens</td>\n",
       "      <td>HLA-B*08</td>\n",
       "      <td>B2M</td>\n",
       "      <td>MHCI</td>\n",
       "      <td>FLKEKGGL</td>\n",
       "      <td>Nef</td>\n",
       "      <td>HIV-1</td>\n",
       "      <td>PMID:15596521</td>\n",
       "      <td>{\"frequency\": \"\", \"identification\": \"tetramer-...</td>\n",
       "      <td>{\"cell.subset\": \"CD8+\", \"clone.id\": \"\", \"donor...</td>\n",
       "      <td>{\"cdr3\": \"CIVRAPGRADMRF\", \"cdr3_old\": \"CIVRAPG...</td>\n",
       "      <td>2</td>\n",
       "    </tr>\n",
       "    <tr>\n",
       "      <th>1</th>\n",
       "      <td>1</td>\n",
       "      <td>TRB</td>\n",
       "      <td>CASSYLPGQGDHYSNQPQHF</td>\n",
       "      <td>TRBV13*01</td>\n",
       "      <td>TRBJ1-5*01</td>\n",
       "      <td>HomoSapiens</td>\n",
       "      <td>HLA-B*08</td>\n",
       "      <td>B2M</td>\n",
       "      <td>MHCI</td>\n",
       "      <td>FLKEKGGL</td>\n",
       "      <td>Nef</td>\n",
       "      <td>HIV-1</td>\n",
       "      <td>PMID:15596521</td>\n",
       "      <td>{\"frequency\": \"\", \"identification\": \"tetramer-...</td>\n",
       "      <td>{\"cell.subset\": \"CD8+\", \"clone.id\": \"\", \"donor...</td>\n",
       "      <td>{\"cdr3\": \"CASSYLPGQGDHYSNQPQHF\", \"cdr3_old\": \"...</td>\n",
       "      <td>2</td>\n",
       "    </tr>\n",
       "    <tr>\n",
       "      <th>2</th>\n",
       "      <td>0</td>\n",
       "      <td>TRB</td>\n",
       "      <td>CASSFEAGQGFFSNQPQHF</td>\n",
       "      <td>TRBV13*01</td>\n",
       "      <td>TRBJ1-5*01</td>\n",
       "      <td>HomoSapiens</td>\n",
       "      <td>HLA-B*08</td>\n",
       "      <td>B2M</td>\n",
       "      <td>MHCI</td>\n",
       "      <td>FLKEKGGL</td>\n",
       "      <td>Nef</td>\n",
       "      <td>HIV-1</td>\n",
       "      <td>PMID:15596521</td>\n",
       "      <td>{\"frequency\": \"\", \"identification\": \"tetramer-...</td>\n",
       "      <td>{\"cell.subset\": \"CD8+\", \"clone.id\": \"\", \"donor...</td>\n",
       "      <td>{\"cdr3\": \"CASSFEAGQGFFSNQPQHF\", \"cdr3_old\": \"C...</td>\n",
       "      <td>2</td>\n",
       "    </tr>\n",
       "    <tr>\n",
       "      <th>3</th>\n",
       "      <td>2</td>\n",
       "      <td>TRA</td>\n",
       "      <td>CAVPSGAGSYQLTF</td>\n",
       "      <td>TRAV20*01</td>\n",
       "      <td>TRAJ28*01</td>\n",
       "      <td>HomoSapiens</td>\n",
       "      <td>HLA-B*08</td>\n",
       "      <td>B2M</td>\n",
       "      <td>MHCI</td>\n",
       "      <td>FLKEKGGL</td>\n",
       "      <td>Nef</td>\n",
       "      <td>HIV-1</td>\n",
       "      <td>PMID:15596521</td>\n",
       "      <td>{\"frequency\": \"\", \"identification\": \"tetramer-...</td>\n",
       "      <td>{\"cell.subset\": \"CD8+\", \"clone.id\": \"\", \"donor...</td>\n",
       "      <td>{\"cdr3\": \"CAVPSGAGSYQLTF\", \"cdr3_old\": \"CAVPSG...</td>\n",
       "      <td>2</td>\n",
       "    </tr>\n",
       "    <tr>\n",
       "      <th>4</th>\n",
       "      <td>2</td>\n",
       "      <td>TRB</td>\n",
       "      <td>CASSFEPGQGFYSNQPQHF</td>\n",
       "      <td>TRBV13*01</td>\n",
       "      <td>TRBJ1-5*01</td>\n",
       "      <td>HomoSapiens</td>\n",
       "      <td>HLA-B*08</td>\n",
       "      <td>B2M</td>\n",
       "      <td>MHCI</td>\n",
       "      <td>FLKEKGGL</td>\n",
       "      <td>Nef</td>\n",
       "      <td>HIV-1</td>\n",
       "      <td>PMID:15596521</td>\n",
       "      <td>{\"frequency\": \"\", \"identification\": \"tetramer-...</td>\n",
       "      <td>{\"cell.subset\": \"CD8+\", \"clone.id\": \"\", \"donor...</td>\n",
       "      <td>{\"cdr3\": \"CASSFEPGQGFYSNQPQHF\", \"cdr3_old\": \"C...</td>\n",
       "      <td>2</td>\n",
       "    </tr>\n",
       "  </tbody>\n",
       "</table>\n",
       "</div>"
      ],
      "text/plain": [
       "   complex.id Gene                  CDR3            V           J  \\\n",
       "0           1  TRA         CIVRAPGRADMRF  TRAV26-1*01   TRAJ43*01   \n",
       "1           1  TRB  CASSYLPGQGDHYSNQPQHF    TRBV13*01  TRBJ1-5*01   \n",
       "2           0  TRB   CASSFEAGQGFFSNQPQHF    TRBV13*01  TRBJ1-5*01   \n",
       "3           2  TRA        CAVPSGAGSYQLTF    TRAV20*01   TRAJ28*01   \n",
       "4           2  TRB   CASSFEPGQGFYSNQPQHF    TRBV13*01  TRBJ1-5*01   \n",
       "\n",
       "       Species     MHC A MHC B MHC class   Epitope Epitope gene  \\\n",
       "0  HomoSapiens  HLA-B*08   B2M      MHCI  FLKEKGGL          Nef   \n",
       "1  HomoSapiens  HLA-B*08   B2M      MHCI  FLKEKGGL          Nef   \n",
       "2  HomoSapiens  HLA-B*08   B2M      MHCI  FLKEKGGL          Nef   \n",
       "3  HomoSapiens  HLA-B*08   B2M      MHCI  FLKEKGGL          Nef   \n",
       "4  HomoSapiens  HLA-B*08   B2M      MHCI  FLKEKGGL          Nef   \n",
       "\n",
       "  Epitope species      Reference  \\\n",
       "0           HIV-1  PMID:15596521   \n",
       "1           HIV-1  PMID:15596521   \n",
       "2           HIV-1  PMID:15596521   \n",
       "3           HIV-1  PMID:15596521   \n",
       "4           HIV-1  PMID:15596521   \n",
       "\n",
       "                                              Method  \\\n",
       "0  {\"frequency\": \"\", \"identification\": \"tetramer-...   \n",
       "1  {\"frequency\": \"\", \"identification\": \"tetramer-...   \n",
       "2  {\"frequency\": \"\", \"identification\": \"tetramer-...   \n",
       "3  {\"frequency\": \"\", \"identification\": \"tetramer-...   \n",
       "4  {\"frequency\": \"\", \"identification\": \"tetramer-...   \n",
       "\n",
       "                                                Meta  \\\n",
       "0  {\"cell.subset\": \"CD8+\", \"clone.id\": \"\", \"donor...   \n",
       "1  {\"cell.subset\": \"CD8+\", \"clone.id\": \"\", \"donor...   \n",
       "2  {\"cell.subset\": \"CD8+\", \"clone.id\": \"\", \"donor...   \n",
       "3  {\"cell.subset\": \"CD8+\", \"clone.id\": \"\", \"donor...   \n",
       "4  {\"cell.subset\": \"CD8+\", \"clone.id\": \"\", \"donor...   \n",
       "\n",
       "                                             CDR3fix  Score  \n",
       "0  {\"cdr3\": \"CIVRAPGRADMRF\", \"cdr3_old\": \"CIVRAPG...      2  \n",
       "1  {\"cdr3\": \"CASSYLPGQGDHYSNQPQHF\", \"cdr3_old\": \"...      2  \n",
       "2  {\"cdr3\": \"CASSFEAGQGFFSNQPQHF\", \"cdr3_old\": \"C...      2  \n",
       "3  {\"cdr3\": \"CAVPSGAGSYQLTF\", \"cdr3_old\": \"CAVPSG...      2  \n",
       "4  {\"cdr3\": \"CASSFEPGQGFYSNQPQHF\", \"cdr3_old\": \"C...      2  "
      ]
     },
     "execution_count": 4,
     "metadata": {},
     "output_type": "execute_result"
    }
   ],
   "source": [
    "df.head()"
   ]
  },
  {
   "attachments": {},
   "cell_type": "markdown",
   "metadata": {},
   "source": [
    "## Test TCR standardisation"
   ]
  },
  {
   "cell_type": "code",
   "execution_count": 5,
   "metadata": {},
   "outputs": [
    {
     "name": "stderr",
     "output_type": "stream",
     "text": [
      "/home/yutanagano/Projects/tidytcells/src/tidytcells/_utils/warnings.py:25: UserWarning: Unsupported species: \"macacamulatta\". Skipping TCR gene standardisation procedure...\n",
      "  warn(\n"
     ]
    },
    {
     "data": {
      "text/plain": [
       "0        TRAV26-1*01\n",
       "1          TRBV13*01\n",
       "2          TRBV13*01\n",
       "3          TRAV20*01\n",
       "4          TRBV13*01\n",
       "            ...     \n",
       "89316    TRBV13-3*01\n",
       "89317    TRAV14-2*01\n",
       "89318     TRAV8-2*01\n",
       "89319     TRAV6-5*01\n",
       "89320    TRAV9D-4*01\n",
       "Length: 89321, dtype: object"
      ]
     },
     "execution_count": 5,
     "metadata": {},
     "output_type": "execute_result"
    }
   ],
   "source": [
    "df.apply(\n",
    "    lambda row: pd.NA\n",
    "    if pd.isna(row[\"V\"])\n",
    "    else tidytcells.tcr.standardise(\n",
    "        row[\"V\"], species=row[\"Species\"].lower(), enforce_functional=True\n",
    "    ),\n",
    "    axis=1,\n",
    ")"
   ]
  },
  {
   "cell_type": "code",
   "execution_count": 6,
   "metadata": {},
   "outputs": [
    {
     "name": "stderr",
     "output_type": "stream",
     "text": [
      "/home/yutanagano/Projects/tidytcells/src/tidytcells/_utils/warnings.py:25: UserWarning: Unsupported species: \"macacamulatta\". Skipping TCR gene standardisation procedure...\n",
      "  warn(\n"
     ]
    },
    {
     "data": {
      "text/plain": [
       "0         TRAJ43*01\n",
       "1        TRBJ1-5*01\n",
       "2        TRBJ1-5*01\n",
       "3         TRAJ28*01\n",
       "4        TRBJ1-5*01\n",
       "            ...    \n",
       "89316    TRBJ2-3*01\n",
       "89317     TRAJ23*01\n",
       "89318     TRAJ30*01\n",
       "89319     TRAJ52*01\n",
       "89320     TRAJ31*01\n",
       "Length: 89321, dtype: object"
      ]
     },
     "execution_count": 6,
     "metadata": {},
     "output_type": "execute_result"
    }
   ],
   "source": [
    "df.apply(\n",
    "    lambda row: pd.NA\n",
    "    if pd.isna(row[\"J\"])\n",
    "    else tidytcells.tcr.standardise(\n",
    "        row[\"J\"], species=row[\"Species\"].lower(), enforce_functional=True\n",
    "    ),\n",
    "    axis=1,\n",
    ")"
   ]
  },
  {
   "attachments": {},
   "cell_type": "markdown",
   "metadata": {},
   "source": [
    "## Test MHC standardisation"
   ]
  },
  {
   "cell_type": "code",
   "execution_count": 7,
   "metadata": {},
   "outputs": [
    {
     "name": "stderr",
     "output_type": "stream",
     "text": [
      "/home/yutanagano/Projects/tidytcells/src/tidytcells/_utils/warnings.py:14: UserWarning: Failed to standardise: \"H-2Kb\" for species musmusculus. Attempted fix \"H-2KB\" did not meet the standardised format requirements. Ignoring this gene name...\n",
      "  warn(\n",
      "/home/yutanagano/Projects/tidytcells/src/tidytcells/_utils/warnings.py:14: UserWarning: Failed to standardise: \"H-2Ld\" for species musmusculus. Attempted fix \"H-2LD\" did not meet the standardised format requirements. Ignoring this gene name...\n",
      "  warn(\n",
      "/home/yutanagano/Projects/tidytcells/src/tidytcells/_utils/warnings.py:14: UserWarning: Failed to standardise: \"H-2Kd\" for species musmusculus. Attempted fix \"H-2KD\" did not meet the standardised format requirements. Ignoring this gene name...\n",
      "  warn(\n",
      "/home/yutanagano/Projects/tidytcells/src/tidytcells/_utils/warnings.py:14: UserWarning: Failed to standardise: \"HLA-A*08:01\" for species homosapiens. Attempted fix \"HLA-A*008:001\" did not meet the standardised format requirements. Ignoring this gene name...\n",
      "  warn(\n",
      "/home/yutanagano/Projects/tidytcells/src/tidytcells/_utils/warnings.py:14: UserWarning: Failed to standardise: \"HLA-B*12\" for species homosapiens. Attempted fix \"HLA-B*012\" did not meet the standardised format requirements. Ignoring this gene name...\n",
      "  warn(\n",
      "/home/yutanagano/Projects/tidytcells/src/tidytcells/_utils/warnings.py:14: UserWarning: Failed to standardise: \"H-2KB\" for species musmusculus. Attempted fix \"H-2KB\" did not meet the standardised format requirements. Ignoring this gene name...\n",
      "  warn(\n",
      "/home/yutanagano/Projects/tidytcells/src/tidytcells/_utils/warnings.py:14: UserWarning: Failed to standardise: \"HLA-A*11:01\" for species musmusculus. Attempted fix \"HLA-A*11\" did not meet the standardised format requirements. Ignoring this gene name...\n",
      "  warn(\n",
      "/home/yutanagano/Projects/tidytcells/src/tidytcells/_utils/warnings.py:25: UserWarning: Unsupported species: \"macacamulatta\". Skipping MHC gene standardisation procedure...\n",
      "  warn(\n",
      "/home/yutanagano/Projects/tidytcells/src/tidytcells/_utils/warnings.py:14: UserWarning: Failed to standardise: \"HLA-A*24:01\" for species homosapiens. Attempted fix \"HLA-A*024:001\" did not meet the standardised format requirements. Ignoring this gene name...\n",
      "  warn(\n"
     ]
    },
    {
     "data": {
      "text/plain": [
       "0        HLA-B*08\n",
       "1        HLA-B*08\n",
       "2        HLA-B*08\n",
       "3        HLA-B*08\n",
       "4        HLA-B*08\n",
       "           ...   \n",
       "89316      MH2-D1\n",
       "89317      MH2-D1\n",
       "89318      MH2-D1\n",
       "89319      MH2-D1\n",
       "89320      MH2-D1\n",
       "Length: 89321, dtype: object"
      ]
     },
     "execution_count": 7,
     "metadata": {},
     "output_type": "execute_result"
    }
   ],
   "source": [
    "df.apply(\n",
    "    lambda row: pd.NA\n",
    "    if pd.isna(row[\"MHC A\"])\n",
    "    else tidytcells.mhc.standardise(row[\"MHC A\"], species=row[\"Species\"].lower()),\n",
    "    axis=1,\n",
    ")"
   ]
  },
  {
   "cell_type": "code",
   "execution_count": 8,
   "metadata": {},
   "outputs": [
    {
     "name": "stderr",
     "output_type": "stream",
     "text": [
      "/home/yutanagano/Projects/tidytcells/src/tidytcells/_utils/warnings.py:14: UserWarning: Failed to standardise: \"HLA-DRB*07:01\" for species homosapiens. Attempted fix \"HLA-DRB*007:001\" did not meet the standardised format requirements. Ignoring this gene name...\n",
      "  warn(\n",
      "/home/yutanagano/Projects/tidytcells/src/tidytcells/_utils/warnings.py:14: UserWarning: Failed to standardise: \"HLA-DRB*13:01\" for species homosapiens. Attempted fix \"HLA-DRB*013:001\" did not meet the standardised format requirements. Ignoring this gene name...\n",
      "  warn(\n",
      "/home/yutanagano/Projects/tidytcells/src/tidytcells/_utils/warnings.py:14: UserWarning: Failed to standardise: \"HLA-DRB*08:03:2\" for species homosapiens. Attempted fix \"HLA-DRB*008:003:2\" did not meet the standardised format requirements. Ignoring this gene name...\n",
      "  warn(\n",
      "/home/yutanagano/Projects/tidytcells/src/tidytcells/_utils/warnings.py:14: UserWarning: Failed to standardise: \"HLA-DRB*15:01:1\" for species homosapiens. Attempted fix \"HLA-DRB*015:001:1\" did not meet the standardised format requirements. Ignoring this gene name...\n",
      "  warn(\n",
      "/home/yutanagano/Projects/tidytcells/src/tidytcells/_utils/warnings.py:14: UserWarning: Failed to standardise: \"HLA-DRB*03:01\" for species homosapiens. Attempted fix \"HLA-DRB*003:001\" did not meet the standardised format requirements. Ignoring this gene name...\n",
      "  warn(\n",
      "/home/yutanagano/Projects/tidytcells/src/tidytcells/_utils/warnings.py:14: UserWarning: Failed to standardise: \"HLA-A2/HLA-A2\" for species homosapiens. Attempted fix \"HLA-A2/HLA-A2\" did not meet the standardised format requirements. Ignoring this gene name...\n",
      "  warn(\n",
      "/home/yutanagano/Projects/tidytcells/src/tidytcells/_utils/warnings.py:14: UserWarning: Failed to standardise: \"B60\" for species homosapiens. Attempted fix \"HLA-B*060\" did not meet the standardised format requirements. Ignoring this gene name...\n",
      "  warn(\n",
      "/home/yutanagano/Projects/tidytcells/src/tidytcells/_utils/warnings.py:14: UserWarning: Failed to standardise: \"B62\" for species homosapiens. Attempted fix \"HLA-B*062\" did not meet the standardised format requirements. Ignoring this gene name...\n",
      "  warn(\n",
      "/home/yutanagano/Projects/tidytcells/src/tidytcells/_utils/warnings.py:14: UserWarning: Failed to standardise: \"HLA-DR1\" for species homosapiens. Attempted fix \"HLA-DR*001\" did not meet the standardised format requirements. Ignoring this gene name...\n",
      "  warn(\n",
      "/home/yutanagano/Projects/tidytcells/src/tidytcells/_utils/warnings.py:14: UserWarning: Failed to standardise: \"B*62\" for species homosapiens. Attempted fix \"HLA-B*062\" did not meet the standardised format requirements. Ignoring this gene name...\n",
      "  warn(\n",
      "/home/yutanagano/Projects/tidytcells/src/tidytcells/_utils/warnings.py:14: UserWarning: Failed to standardise: \"C*10\" for species homosapiens. Attempted fix \"HLA-C*010\" did not meet the standardised format requirements. Ignoring this gene name...\n",
      "  warn(\n",
      "/home/yutanagano/Projects/tidytcells/src/tidytcells/_utils/warnings.py:14: UserWarning: Failed to standardise: \"B61\" for species homosapiens. Attempted fix \"HLA-B*061\" did not meet the standardised format requirements. Ignoring this gene name...\n",
      "  warn(\n",
      "/home/yutanagano/Projects/tidytcells/src/tidytcells/_utils/warnings.py:14: UserWarning: Failed to standardise: \"Cw10\" for species homosapiens. Attempted fix \"HLA-C*010\" did not meet the standardised format requirements. Ignoring this gene name...\n",
      "  warn(\n",
      "/home/yutanagano/Projects/tidytcells/src/tidytcells/_utils/warnings.py:14: UserWarning: Failed to standardise: \"HLA-DPB*01:01\" for species homosapiens. Attempted fix \"HLA-DPB*001:001\" did not meet the standardised format requirements. Ignoring this gene name...\n",
      "  warn(\n",
      "/home/yutanagano/Projects/tidytcells/src/tidytcells/_utils/warnings.py:14: UserWarning: Failed to standardise: \"HLA-DPB*39*01\" for species homosapiens. Attempted fix \"HLA-DPB*039\" did not meet the standardised format requirements. Ignoring this gene name...\n",
      "  warn(\n",
      "/home/yutanagano/Projects/tidytcells/src/tidytcells/_utils/warnings.py:14: UserWarning: Failed to standardise: \"HLA-DPB*04:01\" for species homosapiens. Attempted fix \"HLA-DPB*004:001\" did not meet the standardised format requirements. Ignoring this gene name...\n",
      "  warn(\n",
      "/home/yutanagano/Projects/tidytcells/src/tidytcells/_utils/warnings.py:14: UserWarning: Failed to standardise: \"HLA-B*62\" for species homosapiens. Attempted fix \"HLA-B*062\" did not meet the standardised format requirements. Ignoring this gene name...\n",
      "  warn(\n",
      "/home/yutanagano/Projects/tidytcells/src/tidytcells/_utils/warnings.py:14: UserWarning: Failed to standardise: \"HLA-B*60\" for species homosapiens. Attempted fix \"HLA-B*060\" did not meet the standardised format requirements. Ignoring this gene name...\n",
      "  warn(\n",
      "/home/yutanagano/Projects/tidytcells/src/tidytcells/_utils/warnings.py:14: UserWarning: Failed to standardise: \"HLA-A*28\" for species homosapiens. Attempted fix \"HLA-A*028\" did not meet the standardised format requirements. Ignoring this gene name...\n",
      "  warn(\n",
      "/home/yutanagano/Projects/tidytcells/src/tidytcells/_utils/warnings.py:14: UserWarning: Failed to standardise: \"A10\" for species homosapiens. Attempted fix \"HLA-A*010\" did not meet the standardised format requirements. Ignoring this gene name...\n",
      "  warn(\n",
      "/home/yutanagano/Projects/tidytcells/src/tidytcells/_utils/warnings.py:14: UserWarning: Failed to standardise: \"HLA-C*02:01\" for species homosapiens. Attempted fix \"HLA-C*002:001\" did not meet the standardised format requirements. Ignoring this gene name...\n",
      "  warn(\n",
      "/home/yutanagano/Projects/tidytcells/src/tidytcells/_utils/warnings.py:14: UserWarning: Failed to standardise: \"Cw19\" for species homosapiens. Attempted fix \"HLA-C*019\" did not meet the standardised format requirements. Ignoring this gene name...\n",
      "  warn(\n",
      "/home/yutanagano/Projects/tidytcells/src/tidytcells/_utils/warnings.py:14: UserWarning: Failed to standardise: \"Cw20\" for species homosapiens. Attempted fix \"HLA-C*020\" did not meet the standardised format requirements. Ignoring this gene name...\n",
      "  warn(\n",
      "/home/yutanagano/Projects/tidytcells/src/tidytcells/_utils/warnings.py:14: UserWarning: Failed to standardise: \"Cw21\" for species homosapiens. Attempted fix \"HLA-C*021\" did not meet the standardised format requirements. Ignoring this gene name...\n",
      "  warn(\n",
      "/home/yutanagano/Projects/tidytcells/src/tidytcells/_utils/warnings.py:14: UserWarning: Failed to standardise: \"Cw22\" for species homosapiens. Attempted fix \"HLA-C*022\" did not meet the standardised format requirements. Ignoring this gene name...\n",
      "  warn(\n",
      "/home/yutanagano/Projects/tidytcells/src/tidytcells/_utils/warnings.py:14: UserWarning: Failed to standardise: \"Cw23\" for species homosapiens. Attempted fix \"HLA-C*023\" did not meet the standardised format requirements. Ignoring this gene name...\n",
      "  warn(\n",
      "/home/yutanagano/Projects/tidytcells/src/tidytcells/_utils/warnings.py:14: UserWarning: Failed to standardise: \"Cw24\" for species homosapiens. Attempted fix \"HLA-C*024\" did not meet the standardised format requirements. Ignoring this gene name...\n",
      "  warn(\n",
      "/home/yutanagano/Projects/tidytcells/src/tidytcells/_utils/warnings.py:14: UserWarning: Failed to standardise: \"HLA-DQB1*02:02:01G\" for species homosapiens. Attempted fix \"HLA-DQB1*002:002:01G\" did not meet the standardised format requirements. Ignoring this gene name...\n",
      "  warn(\n",
      "/home/yutanagano/Projects/tidytcells/src/tidytcells/_utils/warnings.py:14: UserWarning: Failed to standardise: \"H2b\" for species musmusculus. Attempted fix \"H2B\" did not meet the standardised format requirements. Ignoring this gene name...\n",
      "  warn(\n",
      "/home/yutanagano/Projects/tidytcells/src/tidytcells/_utils/warnings.py:14: UserWarning: Failed to standardise: \"H2d/b\" for species musmusculus. Attempted fix \"H2D/B\" did not meet the standardised format requirements. Ignoring this gene name...\n",
      "  warn(\n"
     ]
    },
    {
     "data": {
      "text/plain": [
       "0.9232736572890026"
      ]
     },
     "execution_count": 8,
     "metadata": {},
     "output_type": "execute_result"
    }
   ],
   "source": [
    "def _resolve_alleles(alleles: str) -> list:\n",
    "    \"\"\"\n",
    "    Resolve incomplete MHC gene names from donor.MHC fields in VDJdb, and\n",
    "    return as a list.\n",
    "    \"\"\"\n",
    "    alleles = re.split(\",|;\", alleles)\n",
    "    alleles = [allele.strip() for allele in alleles if allele != \"\"]\n",
    "\n",
    "    resolved_alleles = []\n",
    "    most_recent_gene_base = None\n",
    "\n",
    "    for allele in alleles:\n",
    "        current_gene_base = re.match(r\"(HLA-)?([ABCEFG]|D[PQR][AB]\\d?)\", allele)\n",
    "\n",
    "        if current_gene_base:\n",
    "            most_recent_gene_base = current_gene_base.group(0)\n",
    "            resolved_alleles.append(allele)\n",
    "            continue\n",
    "\n",
    "        if most_recent_gene_base:\n",
    "            resolved_alleles.append(f\"{most_recent_gene_base}*{allele}\")\n",
    "            continue\n",
    "\n",
    "        resolved_alleles.append(allele)\n",
    "\n",
    "    return resolved_alleles\n",
    "\n",
    "\n",
    "meta_mhcs = df[[\"Species\"]].copy()\n",
    "meta_mhcs[\"MHC\"] = (\n",
    "    df[\"Meta\"]\n",
    "    .transform(lambda x: json.loads(x)[\"donor.MHC\"])\n",
    "    .transform(lambda x: None if x == \"\" else x)\n",
    ")\n",
    "meta_mhcs = meta_mhcs[meta_mhcs[\"MHC\"].notna()]\n",
    "meta_mhcs[\"MHC\"] = meta_mhcs[\"MHC\"].map(_resolve_alleles)\n",
    "meta_mhcs = meta_mhcs.explode(\"MHC\")\n",
    "meta_mhcs = meta_mhcs.drop_duplicates()\n",
    "\n",
    "meta_mhcs.apply(\n",
    "    lambda row: pd.NA\n",
    "    if pd.isna(row[\"MHC\"])\n",
    "    else tidytcells.mhc.standardise(row[\"MHC\"], species=row[\"Species\"].lower()),\n",
    "    axis=1,\n",
    ").notna().sum() / len(meta_mhcs)"
   ]
  },
  {
   "cell_type": "code",
   "execution_count": null,
   "metadata": {},
   "outputs": [],
   "source": []
  }
 ],
 "metadata": {
  "kernelspec": {
   "display_name": ".venv",
   "language": "python",
   "name": "python3"
  },
  "language_info": {
   "codemirror_mode": {
    "name": "ipython",
    "version": 3
   },
   "file_extension": ".py",
   "mimetype": "text/x-python",
   "name": "python",
   "nbconvert_exporter": "python",
   "pygments_lexer": "ipython3",
   "version": "3.11.2"
  },
  "orig_nbformat": 4,
  "vscode": {
   "interpreter": {
    "hash": "e9113dead31263b73eafaec25dace067586105dc5705e88fed689dacfad72cc7"
   }
  }
 },
 "nbformat": 4,
 "nbformat_minor": 2
}
